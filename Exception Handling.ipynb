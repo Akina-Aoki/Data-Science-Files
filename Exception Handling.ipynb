{
 "cells": [
  {
   "cell_type": "markdown",
   "id": "f30c4c9e",
   "metadata": {},
   "source": [
    "# Exception Handling\n",
    "\n",
    "## Brief Introduction to exception handling\n",
    "\n",
    "##### try\n",
    "The try statement will always try to execute the code first in the try block. If an error occurs, it will begin to look for an exception that matches the error. Once it finds the correct exception for that error, it will then execute that line of code located in the except statement.\n",
    "\n",
    "For example, a program below should open and write a file. However, the data was not able to be read. This error makes the program skip over the code line in the try statement and went directly over the except statement line with the IOError. In this case, it is unable to open or read the data in the file to the console.\n",
    "\n",
    "##### except\n",
    "There are instances where other types of errors occurs and is not caught by the IOError. In that case, another except statement is added. Notice that the type of error caught is not specified. This may cause the program not to terminate but this is not the best practice. This is why debugging the program is important to identify the disruption for the users. \n",
    "\n",
    "##### else\n",
    "An else statement provides a notification to the console that the program was running successfully.\n",
    "\n",
    "##### finally\n",
    "The last step, since we opened a file, is adding a finally statement. It will tell the program to close th file no matter the end result."
   ]
  },
  {
   "cell_type": "code",
   "execution_count": null,
   "id": "f511690a",
   "metadata": {},
   "outputs": [],
   "source": [
    "# example of try, except, else and finally\n",
    "\n",
    "try:\n",
    "    getfile = open(\"myfile\", \"r\")                          # open a file\n",
    "    getfile.write(\"My file for exception handling.\")       # try to write to the file, may raise IOError if file cannot be written\n",
    "    \n",
    "except IOError:\n",
    "    print(\"Unable to open or read the data in the file.\")  # if IOError occurs, execute block\n",
    "    \n",
    "else:\n",
    "    print(\"The file was written successfully.\")            # if no error occurs, execute block\n",
    "    \n",
    "finally:                                                  # regardless of result, this block is always executed\n",
    "    getfile.close()                                        # close file if open\n",
    "    print(\"File is now closed.\")"
   ]
  },
  {
   "cell_type": "markdown",
   "id": "0635c2fc",
   "metadata": {},
   "source": []
  },
  {
   "cell_type": "markdown",
   "id": "97d8abdd",
   "metadata": {},
   "source": [
    "## Errors and Exceptionds differences\n",
    "\n",
    "**Errors** come from a computer or a system and causes the program to completely stop running.\n",
    "\n",
    "**Exceptions** are problems in the code that can be fixed and controlled.\n",
    "\n",
    "\n",
    "|           | Errors                 | Exceptions                      |\n",
    "|-----------|------------------------| --------------------------------|\n",
    "| Cause     |  Enviroment, hardware, | problematic code execution      |\n",
    "|           |  or OP system          | within the program              |\n",
    "|           |                        |                                 |\n",
    "| Effect    | Program crash,         | Can be caught and handled to    |\n",
    "|           | abnormal termination   | prevent program termination     |\n",
    "|           |                        |                                 |\n",
    "| Handling  | Can't be caught or     | Can be caught by try-except and |\n",
    "|           |handled by program      | dealt with program to continue  |\n",
    "|           |                        |                                 |\n",
    "| Example   | Syntax Error, NameError| ZeroDivisionError, ValueError,  |\n",
    "|           |                        | FileNotFoundError, IOError,     |"
   ]
  },
  {
   "cell_type": "markdown",
   "id": "b89db84b",
   "metadata": {},
   "source": []
  },
  {
   "cell_type": "markdown",
   "id": "38a5cc57",
   "metadata": {},
   "source": [
    "## Common Exceptions in Python\n",
    "\n",
    "**1. ZeroDivisionError:**\n",
    "This error arises when an attempt is made to divide a number by zero. Division by zero is undefined in mathematics, causing an arithmetic error."
   ]
  },
  {
   "cell_type": "code",
   "execution_count": 4,
   "id": "1fb944db",
   "metadata": {},
   "outputs": [
    {
     "ename": "ZeroDivisionError",
     "evalue": "division by zero",
     "output_type": "error",
     "traceback": [
      "\u001b[1;31m---------------------------------------------------------------------------\u001b[0m",
      "\u001b[1;31mZeroDivisionError\u001b[0m                         Traceback (most recent call last)",
      "Cell \u001b[1;32mIn[4], line 1\u001b[0m\n\u001b[1;32m----> 1\u001b[0m result \u001b[38;5;241m=\u001b[39m \u001b[38;5;241m10\u001b[39m \u001b[38;5;241m/\u001b[39m \u001b[38;5;241m0\u001b[39m \n\u001b[0;32m      2\u001b[0m \u001b[38;5;28mprint\u001b[39m(result)\n",
      "\u001b[1;31mZeroDivisionError\u001b[0m: division by zero"
     ]
    }
   ],
   "source": [
    "result = 10 / 0 \n",
    "print(result)\n",
    "# Raises ZeroDivisionError"
   ]
  },
  {
   "cell_type": "markdown",
   "id": "d28337c5",
   "metadata": {},
   "source": [
    "**2. ValueError:**\n",
    "This error occurs when an inappropriate value is used within the code. An example of this is when trying to convert a non-numeric string to an integer"
   ]
  },
  {
   "cell_type": "code",
   "execution_count": 5,
   "id": "843962c2",
   "metadata": {},
   "outputs": [
    {
     "ename": "ValueError",
     "evalue": "invalid literal for int() with base 10: 'abcdef'",
     "output_type": "error",
     "traceback": [
      "\u001b[1;31m---------------------------------------------------------------------------\u001b[0m",
      "\u001b[1;31mValueError\u001b[0m                                Traceback (most recent call last)",
      "Cell \u001b[1;32mIn[5], line 1\u001b[0m\n\u001b[1;32m----> 1\u001b[0m number \u001b[38;5;241m=\u001b[39m \u001b[38;5;28mint\u001b[39m(\u001b[38;5;124m\"\u001b[39m\u001b[38;5;124mabcdef\u001b[39m\u001b[38;5;124m\"\u001b[39m)\n",
      "\u001b[1;31mValueError\u001b[0m: invalid literal for int() with base 10: 'abcdef'"
     ]
    }
   ],
   "source": [
    "number = int(\"abcdef\")\n",
    "# Raises ValueError"
   ]
  },
  {
   "cell_type": "markdown",
   "id": "f756763b",
   "metadata": {},
   "source": [
    "**3. FileNotFoundError:** \n",
    "This exception is encountered when an attempt is made to access a file that does not exist."
   ]
  },
  {
   "cell_type": "code",
   "execution_count": 6,
   "id": "e94e2299",
   "metadata": {},
   "outputs": [
    {
     "ename": "FileNotFoundError",
     "evalue": "[Errno 2] No such file or directory: 'nonexistent_file.txt'",
     "output_type": "error",
     "traceback": [
      "\u001b[1;31m---------------------------------------------------------------------------\u001b[0m",
      "\u001b[1;31mFileNotFoundError\u001b[0m                         Traceback (most recent call last)",
      "Cell \u001b[1;32mIn[6], line 1\u001b[0m\n\u001b[1;32m----> 1\u001b[0m \u001b[38;5;28;01mwith\u001b[39;00m \u001b[38;5;28mopen\u001b[39m(\u001b[38;5;124m\"\u001b[39m\u001b[38;5;124mnonexistent_file.txt\u001b[39m\u001b[38;5;124m\"\u001b[39m, \u001b[38;5;124m\"\u001b[39m\u001b[38;5;124mr\u001b[39m\u001b[38;5;124m\"\u001b[39m) \u001b[38;5;28;01mas\u001b[39;00m file:\n\u001b[0;32m      2\u001b[0m         content \u001b[38;5;241m=\u001b[39m file\u001b[38;5;241m.\u001b[39mread()\n",
      "File \u001b[1;32m~\\anaconda3\\Lib\\site-packages\\IPython\\core\\interactiveshell.py:284\u001b[0m, in \u001b[0;36m_modified_open\u001b[1;34m(file, *args, **kwargs)\u001b[0m\n\u001b[0;32m    277\u001b[0m \u001b[38;5;28;01mif\u001b[39;00m file \u001b[38;5;129;01min\u001b[39;00m {\u001b[38;5;241m0\u001b[39m, \u001b[38;5;241m1\u001b[39m, \u001b[38;5;241m2\u001b[39m}:\n\u001b[0;32m    278\u001b[0m     \u001b[38;5;28;01mraise\u001b[39;00m \u001b[38;5;167;01mValueError\u001b[39;00m(\n\u001b[0;32m    279\u001b[0m         \u001b[38;5;124mf\u001b[39m\u001b[38;5;124m\"\u001b[39m\u001b[38;5;124mIPython won\u001b[39m\u001b[38;5;124m'\u001b[39m\u001b[38;5;124mt let you open fd=\u001b[39m\u001b[38;5;132;01m{\u001b[39;00mfile\u001b[38;5;132;01m}\u001b[39;00m\u001b[38;5;124m by default \u001b[39m\u001b[38;5;124m\"\u001b[39m\n\u001b[0;32m    280\u001b[0m         \u001b[38;5;124m\"\u001b[39m\u001b[38;5;124mas it is likely to crash IPython. If you know what you are doing, \u001b[39m\u001b[38;5;124m\"\u001b[39m\n\u001b[0;32m    281\u001b[0m         \u001b[38;5;124m\"\u001b[39m\u001b[38;5;124myou can use builtins\u001b[39m\u001b[38;5;124m'\u001b[39m\u001b[38;5;124m open.\u001b[39m\u001b[38;5;124m\"\u001b[39m\n\u001b[0;32m    282\u001b[0m     )\n\u001b[1;32m--> 284\u001b[0m \u001b[38;5;28;01mreturn\u001b[39;00m io_open(file, \u001b[38;5;241m*\u001b[39margs, \u001b[38;5;241m*\u001b[39m\u001b[38;5;241m*\u001b[39mkwargs)\n",
      "\u001b[1;31mFileNotFoundError\u001b[0m: [Errno 2] No such file or directory: 'nonexistent_file.txt'"
     ]
    }
   ],
   "source": [
    "with open(\"nonexistent_file.txt\", \"r\") as file:\n",
    "        content = file.read()   # Raises FileNotFoundError"
   ]
  },
  {
   "cell_type": "markdown",
   "id": "d54b66b1",
   "metadata": {},
   "source": [
    "**4. IndexError:**\n",
    "An IndexError occurs when an index is used to access an element in a list that is outside the valid index range."
   ]
  },
  {
   "cell_type": "code",
   "execution_count": 7,
   "id": "35e2b91c",
   "metadata": {},
   "outputs": [
    {
     "ename": "IndexError",
     "evalue": "list index out of range",
     "output_type": "error",
     "traceback": [
      "\u001b[1;31m---------------------------------------------------------------------------\u001b[0m",
      "\u001b[1;31mIndexError\u001b[0m                                Traceback (most recent call last)",
      "Cell \u001b[1;32mIn[7], line 3\u001b[0m\n\u001b[0;32m      1\u001b[0m my_list \u001b[38;5;241m=\u001b[39m [\u001b[38;5;241m1\u001b[39m, \u001b[38;5;241m2\u001b[39m, \u001b[38;5;241m3\u001b[39m]\n\u001b[0;32m      2\u001b[0m value \u001b[38;5;241m=\u001b[39m my_list[\u001b[38;5;241m1\u001b[39m]  \u001b[38;5;66;03m# No IndexError, within range\u001b[39;00m\n\u001b[1;32m----> 3\u001b[0m missing \u001b[38;5;241m=\u001b[39m my_list[\u001b[38;5;241m5\u001b[39m]\n",
      "\u001b[1;31mIndexError\u001b[0m: list index out of range"
     ]
    }
   ],
   "source": [
    "my_list = [1, 2, 3]\n",
    "value = my_list[1]  # No IndexError, within range\n",
    "missing = my_list[5]  # Raises IndexError"
   ]
  },
  {
   "cell_type": "markdown",
   "id": "dc798a0b",
   "metadata": {},
   "source": [
    "**5. KeyError:** \n",
    "The KeyError arises when an attempt is made to access a non-existent key in a dictionary."
   ]
  },
  {
   "cell_type": "code",
   "execution_count": 8,
   "id": "57aa75e4",
   "metadata": {},
   "outputs": [
    {
     "ename": "KeyError",
     "evalue": "'city'",
     "output_type": "error",
     "traceback": [
      "\u001b[1;31m---------------------------------------------------------------------------\u001b[0m",
      "\u001b[1;31mKeyError\u001b[0m                                  Traceback (most recent call last)",
      "Cell \u001b[1;32mIn[8], line 3\u001b[0m\n\u001b[0;32m      1\u001b[0m my_dict \u001b[38;5;241m=\u001b[39m {\u001b[38;5;124m\"\u001b[39m\u001b[38;5;124mname\u001b[39m\u001b[38;5;124m\"\u001b[39m: \u001b[38;5;124m\"\u001b[39m\u001b[38;5;124mAlice\u001b[39m\u001b[38;5;124m\"\u001b[39m, \u001b[38;5;124m\"\u001b[39m\u001b[38;5;124mage\u001b[39m\u001b[38;5;124m\"\u001b[39m: \u001b[38;5;241m30\u001b[39m}\n\u001b[0;32m      2\u001b[0m value \u001b[38;5;241m=\u001b[39m my_dict\u001b[38;5;241m.\u001b[39mget(\u001b[38;5;124m\"\u001b[39m\u001b[38;5;124mcity\u001b[39m\u001b[38;5;124m\"\u001b[39m)  \u001b[38;5;66;03m# No KeyError, using .get() method\u001b[39;00m\n\u001b[1;32m----> 3\u001b[0m missing \u001b[38;5;241m=\u001b[39m my_dict[\u001b[38;5;124m\"\u001b[39m\u001b[38;5;124mcity\u001b[39m\u001b[38;5;124m\"\u001b[39m]\n",
      "\u001b[1;31mKeyError\u001b[0m: 'city'"
     ]
    }
   ],
   "source": [
    "my_dict = {\"name\": \"Alice\", \"age\": 30}\n",
    "value = my_dict.get(\"city\")  # No KeyError, using .get() method\n",
    "missing = my_dict[\"city\"]  # Raises KeyError"
   ]
  },
  {
   "cell_type": "markdown",
   "id": "e12c392d",
   "metadata": {},
   "source": [
    "**6. TypeError:**\n",
    "The TypeError occurs when an object is used in an incompatible manner. An example includes trying to concatenate a string and an integer."
   ]
  },
  {
   "cell_type": "code",
   "execution_count": 9,
   "id": "00cf1a2e",
   "metadata": {
    "scrolled": true
   },
   "outputs": [
    {
     "ename": "TypeError",
     "evalue": "can only concatenate str (not \"int\") to str",
     "output_type": "error",
     "traceback": [
      "\u001b[1;31m---------------------------------------------------------------------------\u001b[0m",
      "\u001b[1;31mTypeError\u001b[0m                                 Traceback (most recent call last)",
      "Cell \u001b[1;32mIn[9], line 1\u001b[0m\n\u001b[1;32m----> 1\u001b[0m result \u001b[38;5;241m=\u001b[39m \u001b[38;5;124m\"\u001b[39m\u001b[38;5;124mhello\u001b[39m\u001b[38;5;124m\"\u001b[39m \u001b[38;5;241m+\u001b[39m \u001b[38;5;241m5\u001b[39m\n",
      "\u001b[1;31mTypeError\u001b[0m: can only concatenate str (not \"int\") to str"
     ]
    }
   ],
   "source": [
    "result = \"hello\" + 5   \n",
    "# Raises TypeError"
   ]
  },
  {
   "cell_type": "markdown",
   "id": "fd49d8cf",
   "metadata": {},
   "source": [
    "**7.AttributeError:** \n",
    "An AttributeError occurs when an attribute or method is accessed on an object that doesn't possess that specific attribute or method."
   ]
  },
  {
   "cell_type": "code",
   "execution_count": 1,
   "id": "54d6d81c",
   "metadata": {},
   "outputs": [
    {
     "ename": "AttributeError",
     "evalue": "'str' object has no attribute 'some_method'",
     "output_type": "error",
     "traceback": [
      "\u001b[1;31m---------------------------------------------------------------------------\u001b[0m",
      "\u001b[1;31mAttributeError\u001b[0m                            Traceback (most recent call last)",
      "Cell \u001b[1;32mIn[1], line 3\u001b[0m\n\u001b[0;32m      1\u001b[0m text \u001b[38;5;241m=\u001b[39m \u001b[38;5;124m\"\u001b[39m\u001b[38;5;124mexample\u001b[39m\u001b[38;5;124m\"\u001b[39m\n\u001b[0;32m      2\u001b[0m length \u001b[38;5;241m=\u001b[39m \u001b[38;5;28mlen\u001b[39m(text)  \u001b[38;5;66;03m# No AttributeError, correct method usage\u001b[39;00m\n\u001b[1;32m----> 3\u001b[0m missing \u001b[38;5;241m=\u001b[39m text\u001b[38;5;241m.\u001b[39msome_method()\n",
      "\u001b[1;31mAttributeError\u001b[0m: 'str' object has no attribute 'some_method'"
     ]
    }
   ],
   "source": [
    "text = \"example\"\n",
    "length = len(text)  \n",
    "# No AttributeError, correct method usage\n",
    "\n",
    "missing = text.some_method()  \n",
    "# Raises AttributeErrorImportError: This error is encountered when an attempt is made to import a module that is unavailable. "
   ]
  },
  {
   "cell_type": "markdown",
   "id": "504ee45c",
   "metadata": {},
   "source": [
    "**8. ImportError:**\n",
    "This error is encountered when an attempt is made to import a module that is unavailable. "
   ]
  },
  {
   "cell_type": "code",
   "execution_count": 2,
   "id": "81daf6c4",
   "metadata": {},
   "outputs": [
    {
     "ename": "ModuleNotFoundError",
     "evalue": "No module named 'non_existent_module'",
     "output_type": "error",
     "traceback": [
      "\u001b[1;31m---------------------------------------------------------------------------\u001b[0m",
      "\u001b[1;31mModuleNotFoundError\u001b[0m                       Traceback (most recent call last)",
      "Cell \u001b[1;32mIn[2], line 1\u001b[0m\n\u001b[1;32m----> 1\u001b[0m \u001b[38;5;28;01mimport\u001b[39;00m \u001b[38;5;21;01mnon_existent_module\u001b[39;00m\n",
      "\u001b[1;31mModuleNotFoundError\u001b[0m: No module named 'non_existent_module'"
     ]
    }
   ],
   "source": [
    "import non_existent_module"
   ]
  },
  {
   "cell_type": "markdown",
   "id": "61b19143",
   "metadata": {},
   "source": [
    "*Many more exceptions can be encountered. The documentation is available in Python Documentation Library.*"
   ]
  }
 ],
 "metadata": {
  "kernelspec": {
   "display_name": "Python 3 (ipykernel)",
   "language": "python",
   "name": "python3"
  },
  "language_info": {
   "codemirror_mode": {
    "name": "ipython",
    "version": 3
   },
   "file_extension": ".py",
   "mimetype": "text/x-python",
   "name": "python",
   "nbconvert_exporter": "python",
   "pygments_lexer": "ipython3",
   "version": "3.11.4"
  }
 },
 "nbformat": 4,
 "nbformat_minor": 5
}
