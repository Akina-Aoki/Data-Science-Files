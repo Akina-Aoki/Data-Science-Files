{
 "cells": [
  {
   "cell_type": "markdown",
   "id": "8297b315",
   "metadata": {},
   "source": [
    "# Exception Handling\n",
    "\n",
    "## Brief Introduction to exception handling\n",
    "\n",
    "##### try\n",
    "The try statement will always try to execute the code first in the try block. If an error occurs, it will begin to look for an exception that matches the error. Once it finds the correct exception for that error, it will then execute that line of code located in the except statement.\n",
    "\n",
    "For example, a program below should open and write a file. However, the data was not able to be read. This error makes the program skip over the code line in the try statement and went directly over the except statement line with the IOError. In this case, it is unable to open or read the data in the file to the console.\n",
    "\n",
    "##### except\n",
    "There are instances where other types of errors occurs and is not caught by the IOError. In that case, another except statement is added. Notice that the type of error caught is not specified. This may cause the program not to terminate but this is not the best practice. This is why debugging the program is important to identify the disruption for the users. \n",
    "\n",
    "##### else\n",
    "An else statement provides a notification to the console that the program was running successfully.\n",
    "\n",
    "##### finally\n",
    "The last step, since we opened a file, is adding a finally statement. It will tell the program to close th file no matter the end result."
   ]
  },
  {
   "cell_type": "code",
   "execution_count": null,
   "id": "fed26a23",
   "metadata": {},
   "outputs": [],
   "source": [
    "# example of try, except, else and finally\n",
    "\n",
    "try:\n",
    "    getfile = open(\"myfile\", \"r\")                          # open a file\n",
    "    getfile.write(\"My file for exception handling.\")       # try to write to the file, may raise IOError if file cannot be written\n",
    "    \n",
    "except IOError:\n",
    "    print(\"Unable to open or read the data in the file.\")  # if IOError occurs, execute block\n",
    "    \n",
    "else:\n",
    "    print(\"The file was written successfully.\")            # if no error occurs, execute block\n",
    "    \n",
    "finally:                                                  # regardless of result, this block is always executed\n",
    "    getfile.close()                                        # close file if open\n",
    "    print(\"File is now closed.\")"
   ]
  },
  {
   "cell_type": "markdown",
   "id": "7958728f",
   "metadata": {},
   "source": [
    "## Errors and Exceptionds differences\n",
    "\n",
    "**Errors** come from a computer or a system and causes the program to completely stop running.\n",
    "\n",
    "**Exceptions** are problems in the code that can be fixed and controlled.\n",
    "\n",
    "\n",
    "|           | Errors                 | Exceptions                      |\n",
    "|-----------|------------------------| --------------------------------|\n",
    "| Cause     |  Enviroment, hardware, | problematic code execution      |\n",
    "|           |  or OP system          | within the program              |\n",
    "|           |                        |                                 |\n",
    "| Effect    | Program crash,         | Can be caught and handled to    |\n",
    "|           | abnormal termination   | prevent program termination     |\n",
    "|           |                        |                                 |\n",
    "| Handling  | Can't be caught or     | Can be caught by try-except and |\n",
    "|           |handled by program      | dealt with program to continue  |\n",
    "|           |                        |                                 |\n",
    "| Example   | Syntax Error, NameError| ZeroDivisionError, ValueError,  |\n",
    "|           |                        | FileNotFoundError, IOError,     |"
   ]
  },
  {
   "cell_type": "code",
   "execution_count": null,
   "id": "430adbe5",
   "metadata": {},
   "outputs": [],
   "source": []
  }
 ],
 "metadata": {
  "kernelspec": {
   "display_name": "Python 3 (ipykernel)",
   "language": "python",
   "name": "python3"
  },
  "language_info": {
   "codemirror_mode": {
    "name": "ipython",
    "version": 3
   },
   "file_extension": ".py",
   "mimetype": "text/x-python",
   "name": "python",
   "nbconvert_exporter": "python",
   "pygments_lexer": "ipython3",
   "version": "3.11.4"
  }
 },
 "nbformat": 4,
 "nbformat_minor": 5
}
