{
 "cells": [
  {
   "cell_type": "markdown",
   "id": "490b17b9",
   "metadata": {},
   "source": [
    "# Python Functions for Beginners\n",
    "\n",
    "\n",
    "## Objectives\n",
    " \n",
    "1. Describe the function concept and the importance of functions\n",
    "2. Write a function that takes inputs and performs tasks\n",
    "3. Use built-in functions like len(), sum(), and others effectively\n",
    "4. Define and use your functions in Python\n",
    "5. Differentiate between global and local variable scopes\n",
    "6. Use loops within the function\n",
    "7. Modify data structures using functions\n",
    "\n",
    "\n",
    "### Introduction to functions\n",
    "\n",
    "#### Definition\n",
    "\n",
    "A function is a fundamental building block that encapsulates specific actions or computations. As in mathematics, where functions take inputs and produce outputs, programming functions perform similarly. They take inputs, execute predefined actions or calculations, and then return an output.\n",
    "\n",
    "#### Purpose of functions\n",
    "\n",
    "Functions promote code **modularity and reusability.** Imagine you have a task that needs to be performed multiple times within a program. Instead of duplicating the same code at various places, you can define a function once and call it whenever you need that task. This **reduces redundancy** and makes the code easier to manage and maintain.\n",
    "\n",
    "#### Benefits of using functions\n",
    "\n",
    "**Modularity:** Functions break down complex tasks into manageable components\n",
    "**Reusability:** Functions can be used multiple times without rewriting code\n",
    "**Readability:** Functions with meaningful names enhance code understanding\n",
    "**Debugging:** Isolating functions eases troubleshooting and issue fixing\n",
    "**Abstraction:** Functions simplify complex processes behind a user-friendly interface\n",
    "**Collaboration:** Team members can work on different functions concurrently\n",
    "**Maintenance:** Changes made in a function automatically apply wherever it's used"
   ]
  },
  {
   "cell_type": "markdown",
   "id": "c67debb3",
   "metadata": {},
   "source": [
    "Example:\n",
    "\n",
    "**Inputs(Parameters)** Inputs are known as parameters or arguments. Parameters provide functions with the necessary information they need to perform their tasks.\n",
    "\n",
    "**Tasks**  The purpose of a function determines the tasks it performs. \n",
    "\n",
    "**Producing outputs** The output is the result of the operations carried out within the function. It's the value that the function “returns” to the code that called it. Think of the output as the end product of the function's work."
   ]
  },
  {
   "cell_type": "code",
   "execution_count": null,
   "id": "a5e2b9e7",
   "metadata": {},
   "outputs": [],
   "source": [
    "def calculate_total(a,b):      #p arameters: a and b\n",
    "    total = a + b              # task\n",
    "    return total              # output: sum of a and b\n",
    "\n",
    "result = calculate_total(5, 7) # call the functions\n",
    "print(result)                  # output"
   ]
  },
  {
   "cell_type": "markdown",
   "id": "6ed16a5a",
   "metadata": {},
   "source": [
    "### Python's built-in functions\n",
    "\n",
    "Python has a rich set of built-in functions that provide a wide range of functionalities. These functions are readily available for you to use.\n",
    "\n",
    "\n",
    "#### Built-in functions\n",
    "\n",
    "To use a built-in function, you simply call the function's name followed by parentheses. Any required arguments or parameters are passed into the function within these parentheses. The function then performs its predefined task and may return an output you can use in your code.\n",
    "\n",
    "Python's built-in functions offer a wide array of functionalities, from basic operations like len() and sum() to more specialized tasks.\n"
   ]
  },
  {
   "cell_type": "code",
   "execution_count": null,
   "id": "f781cc6a",
   "metadata": {},
   "outputs": [],
   "source": [
    "# len() Calculates the length of a sequence or collection\n",
    "str_len = len(\"Nice shirt!\") # output: 11\n",
    "int_len = len(1, 2, 3)       # output: 3"
   ]
  },
  {
   "cell_type": "code",
   "execution_count": null,
   "id": "fe14c981",
   "metadata": {},
   "outputs": [],
   "source": [
    "# sum(): Adds up the elements in an iterable (list, tuple, and so on)\n",
    "total = sum(100 + 100)    #output: 200"
   ]
  },
  {
   "cell_type": "markdown",
   "id": "3a0bf2bd",
   "metadata": {},
   "source": [
    "### Defining your functions\n",
    "\n",
    "#### pass\n",
    "A \"pass\" statement in a programming function is a placeholder or a no-op (no operation) statement. Use it when you want to define a function or a code block syntactically but do not want to specify any functionality or implementation at that moment."
   ]
  },
  {
   "cell_type": "markdown",
   "id": "e0e2c548",
   "metadata": {},
   "source": [
    "- **Placeholder:** \"pass\" acts as a temporary placeholder for future code that you intend to write within a function or a code block.\n",
    "\n",
    "- **Syntax Requirement:** In many programming languages like Python, using \"pass\" is necessary when you define a function or a conditional block. It ensures that the code remains syntactically correct, even if it doesn't do anything yet.\n",
    "\n",
    "- **No Operation:** \"pass\" itself doesn't perform any meaningful action. When the interpreter encounters “pass”, it simply moves on to the next statement without executing any code."
   ]
  },
  {
   "cell_type": "code",
   "execution_count": null,
   "id": "80dad217",
   "metadata": {},
   "outputs": [],
   "source": [
    "# Syntax:\n",
    "def function_name():\n",
    "    pass"
   ]
  },
  {
   "cell_type": "markdown",
   "id": "b23e3a00",
   "metadata": {},
   "source": [
    "#### Parameters\n",
    "\n",
    "- Parameters are like inputs for functions\n",
    "- They go inside parentheses when defining the function\n",
    "- Functions can have multiple parameters\n",
    "\n",
    "Example:"
   ]
  },
  {
   "cell_type": "code",
   "execution_count": null,
   "id": "dec54d04",
   "metadata": {},
   "outputs": [],
   "source": [
    "def greet(name):\n",
    "    print(\"Hello, \" + name)\n",
    "    \n",
    "result = greet(\"John\")\n",
    "print(result)              # Output: Hello, John"
   ]
  },
  {
   "cell_type": "markdown",
   "id": "e8162fb5",
   "metadata": {},
   "source": [
    "#### Return statement\n",
    "\n",
    "- Return gives back a value from a function\n",
    "- Ends the function's execution and sends the result\n",
    "- A function can return various types of data\n",
    "\n",
    "Example:"
   ]
  },
  {
   "cell_type": "code",
   "execution_count": null,
   "id": "0a888cf6",
   "metadata": {},
   "outputs": [],
   "source": [
    "def add(a, b):\n",
    "    return a + b\n",
    "\n",
    "result = add(10, 4)"
   ]
  },
  {
   "cell_type": "markdown",
   "id": "a60e6dde",
   "metadata": {},
   "source": [
    "### Scopes and Variables\n",
    "\n",
    "Understanding scope is crucial to avoid naming conflicts and to manage variable accessibility effectively. Scope refers to the accessibility of variables, objects, and functions within a program.\n",
    "\n",
    "#### Global Scope\n",
    "\n",
    "- Variables, objects, and functions defined **outside** of any function or class have global scope.\n",
    "- Global variables and functions can be accessed from anywhere in the program, including inside functions and classes.\n",
    "- To create a global variable inside a function, you can use the global keyword."
   ]
  },
  {
   "cell_type": "code",
   "execution_count": null,
   "id": "7731237f",
   "metadata": {},
   "outputs": [],
   "source": [
    "# example\n",
    "\n",
    "x = \"Welcome\"         # global variable\n",
    "\n",
    "def greeting():\n",
    "    print(x)          # access global variable inside a function\n",
    "    \n",
    "greeting()"
   ]
  },
  {
   "cell_type": "markdown",
   "id": "2922dc27",
   "metadata": {},
   "source": [
    "#### Local Scope\n",
    "\n",
    "- Variables, objects, and functions defined **inside** a function or class have local scope.\n",
    "- Local variables are accessible only within the function or class where they are defined.\n",
    "- Local variables take precedence over global variables with the same name within the same scope."
   ]
  },
  {
   "cell_type": "code",
   "execution_count": null,
   "id": "05b925d2",
   "metadata": {},
   "outputs": [],
   "source": [
    "# example\n",
    "\n",
    "def greeting():\n",
    "    y = \"Hi\"         # local variable\n",
    "    print(y)         # accessing local variable\n",
    "    \n",
    "greeting()    \n",
    "\n",
    "# Trying to access local variable outside its scope will raise NameError\n",
    "# print(y)  # This will raise NameError: name 'y' is not defined"
   ]
  },
  {
   "cell_type": "code",
   "execution_count": null,
   "id": "8dc457d0",
   "metadata": {},
   "outputs": [],
   "source": [
    "# example\n",
    "\n",
    "x = 10              # global variable\n",
    "\n",
    "def greeting():\n",
    "    x = \"Hi\"        # local variable, same name as global variable\n",
    "    print(x)\n",
    "    \n",
    "greeting()          # outout: \"Hi\"\n",
    "print(x)            # output: 10 (global variable remains unchanged)\n",
    "    "
   ]
  },
  {
   "cell_type": "markdown",
   "id": "7536079e",
   "metadata": {},
   "source": [
    "### Using functions with loops\n",
    "Functions and loops are often used together to perform repetitive tasks or iterate over collections of data. \n",
    "\n",
    "- Functions group similar actions for easy understanding\n",
    "- Looping within functions keeps code clean\n",
    "- You can reuse a function to repeat actions"
   ]
  },
  {
   "cell_type": "code",
   "execution_count": null,
   "id": "616b0507",
   "metadata": {},
   "outputs": [],
   "source": [
    "# for loop with function\n",
    "\n",
    "def print_numbers(n):\n",
    "    for i in range(1, n +1):     # iterate through numbers from 1 to n\n",
    "        print(i)\n",
    "        \n",
    "print(3)  \n",
    "#Output:\n",
    "# 1\n",
    "# 2\n",
    "# 3"
   ]
  },
  {
   "cell_type": "code",
   "execution_count": null,
   "id": "b9b91dd6",
   "metadata": {},
   "outputs": [],
   "source": [
    "def greet(name):\n",
    "    return \"Hello, \" + name     # Concatenate the string with the parameter.\n",
    "\n",
    "for _ in range(3):              # iterate 3 times\n",
    "    print(greet(\"John\")) \n",
    "    \n",
    "# Output:\n",
    "# Hello, John\n",
    "# Hello, John\n",
    "# Hello, John"
   ]
  },
  {
   "cell_type": "code",
   "execution_count": 1,
   "id": "2592e4c1",
   "metadata": {},
   "outputs": [],
   "source": [
    "# while loop with function\n",
    "\n",
    "\n",
    "def countdown(n):\n",
    "    while n > 0:       # continues as long as 'n' is greater than 0\n",
    "        print(n)\n",
    "        n -= 1         # Decrement 'n' by 1 in each iteration.\n",
    "\n",
    "countdown(5)\n",
    "# Output:\n",
    "# 5\n",
    "# 4\n",
    "# 3\n",
    "# 2\n",
    "# 1"
   ]
  },
  {
   "cell_type": "code",
   "execution_count": null,
   "id": "57c382dc",
   "metadata": {},
   "outputs": [],
   "source": [
    "# conditional statements andd functions with loop\n",
    "\n",
    "def print_even_numbers(n):\n",
    "    for i in range(1, n +1):      # Iterate through numbers from 1 to n\n",
    "        if i % 2 ==0:             # use the modulo operator, if divided by 2 and remainder is 0, it's even\n",
    "            print(i)\n",
    "            \n",
    "print_even_numbers(10)\n",
    "# Output:\n",
    "# 2\n",
    "# 4\n",
    "# 6\n",
    "# 8\n",
    "# 10"
   ]
  },
  {
   "cell_type": "code",
   "execution_count": null,
   "id": "57e675ac",
   "metadata": {},
   "outputs": [],
   "source": [
    "# Function with Loop and List Comprehension\n",
    "\n",
    "# squares of each number\n",
    "# Iterate over each number 'num' in the input list 'numbers', calculate its square 'num ** 2', and add it to the new list.\n",
    "\n",
    "def square_numbers(numbers):\n",
    "    return [num ** 2 for num in numbers]\n",
    "\n",
    "numbers = [1, 2, 3, 4, 5]\n",
    "\n",
    "# Call the 'square_numbers' function with the 'numbers' list as an argument.\n",
    "squared = square_numbers(numbers)\n",
    "print(squared)\n",
    "\n",
    "# Output: [1, 4, 9, 16, 25]"
   ]
  }
 ],
 "metadata": {
  "kernelspec": {
   "display_name": "Python 3 (ipykernel)",
   "language": "python",
   "name": "python3"
  },
  "language_info": {
   "codemirror_mode": {
    "name": "ipython",
    "version": 3
   },
   "file_extension": ".py",
   "mimetype": "text/x-python",
   "name": "python",
   "nbconvert_exporter": "python",
   "pygments_lexer": "ipython3",
   "version": "3.11.4"
  }
 },
 "nbformat": 4,
 "nbformat_minor": 5
}
