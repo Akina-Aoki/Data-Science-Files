{
 "cells": [
  {
   "cell_type": "markdown",
   "id": "42d6a6c1",
   "metadata": {},
   "source": [
    "# Data Acquisition\n",
    "\n",
    "A data set is typically a file that holds information in different formats, such as **.csv, .json, or .xlsx.** This data can be stored in various places like your computer, a server, a website, or cloud storage. When we want to analyze data in a Python notebook, we need to bring that data into the notebook.\n",
    "\n",
    "Data type: csv The Pandas Library is a very popular and very useful tool that enables us to read various datasets into a data frame; our Jupyter notebook platforms have a built-in Pandas Library so that all we need to do is import Pandas without installing."
   ]
  },
  {
   "cell_type": "markdown",
   "id": "9bde8ef3",
   "metadata": {},
   "source": [
    "# Contents\n",
    "\n",
    "1. About pip install requests\n",
    "2. Bigmac Dataset\n",
    "#### Extracting the Dataset from Kaggle\n",
    "3. SyntaxError: Unicode Error\n",
    "4. Features of the DataFrame\n",
    "5. Add Headers\n",
    "6. Checking for NaN Values in the DataFrame\n",
    "7. dropna() method\n",
    "8. Save/Read the dataset\n",
    "#### Exploring the Dataset\n",
    "9. Data Types\n",
    "10. Get Statistical Summary\n",
    "11. info() method"
   ]
  },
  {
   "cell_type": "markdown",
   "id": "3f3482bd",
   "metadata": {},
   "source": [
    "## 1. pip install requests\n",
    "\n",
    "If you're running the code within a Jupyter Notebook and if you haven't already installed the requests library, you will indeed need to install it using <code>pip install requests</code> in your terminal or command prompt.\n",
    "\n",
    "After executing this command, you should be able to import and use the requests library in your notebook. Then, you can proceed with the rest of the code to download the dataset.\n",
    "\n",
    "This code will download the dataset from the provided URL and save it with the specified filename in the current directory. You can then use <code>pandas.read_csv()</code> to read the CSV file into a DataFrame as usual."
   ]
  },
  {
   "cell_type": "code",
   "execution_count": 1,
   "id": "8b5bf135",
   "metadata": {},
   "outputs": [
    {
     "name": "stdout",
     "output_type": "stream",
     "text": [
      "Requirement already satisfied: requests in c:\\users\\jocke\\anaconda3\\lib\\site-packages (2.31.0)\n",
      "Requirement already satisfied: charset-normalizer<4,>=2 in c:\\users\\jocke\\anaconda3\\lib\\site-packages (from requests) (2.0.4)\n",
      "Requirement already satisfied: idna<4,>=2.5 in c:\\users\\jocke\\anaconda3\\lib\\site-packages (from requests) (3.4)\n",
      "Requirement already satisfied: urllib3<3,>=1.21.1 in c:\\users\\jocke\\anaconda3\\lib\\site-packages (from requests) (1.26.16)\n",
      "Requirement already satisfied: certifi>=2017.4.17 in c:\\users\\jocke\\anaconda3\\lib\\site-packages (from requests) (2023.7.22)\n",
      "Note: you may need to restart the kernel to use updated packages.\n"
     ]
    }
   ],
   "source": [
    "pip install requests"
   ]
  },
  {
   "cell_type": "markdown",
   "id": "7ce16b50",
   "metadata": {},
   "source": [
    "# 2.  BigMac Dataset\n",
    "\n",
    "This is the link for the Bigmac Dataset.\n",
    "\n",
    "**Mcdonalds' Bigmac price for every country in the world from 2000 to 2022.**\n",
    "\n",
    "https://www.kaggle.com/datasets/vittoriogiatti/bigmacprice/data\n",
    "\n",
    "# Extracting the Dataset from Kaggle\n",
    "\n",
    "1. Extracting data online by downloading a dataset from kaggle, and saving into a csv file into my computer.\n",
    "\n",
    "2. Then, copy the file path of the downloaded dataset in csv form and convert in the following:\n"
   ]
  },
  {
   "cell_type": "markdown",
   "id": "75ddcfd9",
   "metadata": {},
   "source": [
    "## 3. What to do when ecountering SyntaxError: (unicode error)\n",
    "\n",
    "- **copied path from excel file**\n",
    "\n",
    "file path = \"C:\\Users\\-----\\Documents\\Aira\\All Python Files\\Kaggle Data Sets\\BigmacPrice.csv\"\n",
    "\n",
    "Convert this into either:\n",
    "\n",
    "- **raw string literal**\n",
    "file_path = r'C:\\Users\\-----\\Documents\\Aira\\All Python Files\\Kaggle Data Sets\\BigmacPrice.csv'\n",
    "\n",
    "or\n",
    "\n",
    "- **escaping backslashes**\n",
    "file_path = 'C:\\\\Users\\\\-----\\\\Documents\\\\Aira\\\\All Python Files\\\\Kaggle Data Sets\\\\BigmacPrice.csv'\n"
   ]
  },
  {
   "cell_type": "code",
   "execution_count": 4,
   "id": "15e5e4b0",
   "metadata": {
    "scrolled": false
   },
   "outputs": [
    {
     "data": {
      "text/html": [
       "<div>\n",
       "<style scoped>\n",
       "    .dataframe tbody tr th:only-of-type {\n",
       "        vertical-align: middle;\n",
       "    }\n",
       "\n",
       "    .dataframe tbody tr th {\n",
       "        vertical-align: top;\n",
       "    }\n",
       "\n",
       "    .dataframe thead th {\n",
       "        text-align: right;\n",
       "    }\n",
       "</style>\n",
       "<table border=\"1\" class=\"dataframe\">\n",
       "  <thead>\n",
       "    <tr style=\"text-align: right;\">\n",
       "      <th></th>\n",
       "      <th>date</th>\n",
       "      <th>currency_code</th>\n",
       "      <th>name</th>\n",
       "      <th>local_price</th>\n",
       "      <th>dollar_ex</th>\n",
       "      <th>dollar_price</th>\n",
       "    </tr>\n",
       "  </thead>\n",
       "  <tbody>\n",
       "    <tr>\n",
       "      <th>0</th>\n",
       "      <td>2000-04-01</td>\n",
       "      <td>ARS</td>\n",
       "      <td>Argentina</td>\n",
       "      <td>2.50</td>\n",
       "      <td>1</td>\n",
       "      <td>2.50</td>\n",
       "    </tr>\n",
       "    <tr>\n",
       "      <th>1</th>\n",
       "      <td>2000-04-01</td>\n",
       "      <td>AUD</td>\n",
       "      <td>Australia</td>\n",
       "      <td>2.59</td>\n",
       "      <td>1</td>\n",
       "      <td>2.59</td>\n",
       "    </tr>\n",
       "    <tr>\n",
       "      <th>2</th>\n",
       "      <td>2000-04-01</td>\n",
       "      <td>BRL</td>\n",
       "      <td>Brazil</td>\n",
       "      <td>2.95</td>\n",
       "      <td>1</td>\n",
       "      <td>2.95</td>\n",
       "    </tr>\n",
       "    <tr>\n",
       "      <th>3</th>\n",
       "      <td>2000-04-01</td>\n",
       "      <td>GBP</td>\n",
       "      <td>Britain</td>\n",
       "      <td>1.90</td>\n",
       "      <td>1</td>\n",
       "      <td>1.90</td>\n",
       "    </tr>\n",
       "    <tr>\n",
       "      <th>4</th>\n",
       "      <td>2000-04-01</td>\n",
       "      <td>CAD</td>\n",
       "      <td>Canada</td>\n",
       "      <td>2.85</td>\n",
       "      <td>1</td>\n",
       "      <td>2.85</td>\n",
       "    </tr>\n",
       "  </tbody>\n",
       "</table>\n",
       "</div>"
      ],
      "text/plain": [
       "         date currency_code       name  local_price  dollar_ex  dollar_price\n",
       "0  2000-04-01           ARS  Argentina         2.50          1          2.50\n",
       "1  2000-04-01           AUD  Australia         2.59          1          2.59\n",
       "2  2000-04-01           BRL     Brazil         2.95          1          2.95\n",
       "3  2000-04-01           GBP    Britain         1.90          1          1.90\n",
       "4  2000-04-01           CAD     Canada         2.85          1          2.85"
      ]
     },
     "execution_count": 4,
     "metadata": {},
     "output_type": "execute_result"
    }
   ],
   "source": [
    "# Import necessary libraries\n",
    "import pandas as pd\n",
    "\n",
    "# Define the file path to your CSV file\n",
    "# Replace 'path_to_your_csv_file.csv' with the actual file path\n",
    "file_path = r'C:\\Users\\jocke\\Documents\\Aira\\All Python Files\\Kaggle Data Sets\\BigmacPrice.csv'\n",
    "\n",
    "# Read the CSV file into a DataFrame called \"bigmac_df\"\n",
    "bigmac_df = pd.read_csv(file_path)\n",
    "\n",
    "# Display the first few rows of the DataFrame to check if the data is imported correctly\n",
    "bigmac_df.head()\n"
   ]
  },
  {
   "cell_type": "code",
   "execution_count": 6,
   "id": "a7f93132",
   "metadata": {},
   "outputs": [
    {
     "data": {
      "text/html": [
       "<div>\n",
       "<style scoped>\n",
       "    .dataframe tbody tr th:only-of-type {\n",
       "        vertical-align: middle;\n",
       "    }\n",
       "\n",
       "    .dataframe tbody tr th {\n",
       "        vertical-align: top;\n",
       "    }\n",
       "\n",
       "    .dataframe thead th {\n",
       "        text-align: right;\n",
       "    }\n",
       "</style>\n",
       "<table border=\"1\" class=\"dataframe\">\n",
       "  <thead>\n",
       "    <tr style=\"text-align: right;\">\n",
       "      <th></th>\n",
       "      <th>date</th>\n",
       "      <th>currency_code</th>\n",
       "      <th>name</th>\n",
       "      <th>local_price</th>\n",
       "      <th>dollar_ex</th>\n",
       "      <th>dollar_price</th>\n",
       "    </tr>\n",
       "  </thead>\n",
       "  <tbody>\n",
       "    <tr>\n",
       "      <th>0</th>\n",
       "      <td>2000-04-01</td>\n",
       "      <td>ARS</td>\n",
       "      <td>Argentina</td>\n",
       "      <td>2.50</td>\n",
       "      <td>1</td>\n",
       "      <td>2.50</td>\n",
       "    </tr>\n",
       "    <tr>\n",
       "      <th>1</th>\n",
       "      <td>2000-04-01</td>\n",
       "      <td>AUD</td>\n",
       "      <td>Australia</td>\n",
       "      <td>2.59</td>\n",
       "      <td>1</td>\n",
       "      <td>2.59</td>\n",
       "    </tr>\n",
       "    <tr>\n",
       "      <th>2</th>\n",
       "      <td>2000-04-01</td>\n",
       "      <td>BRL</td>\n",
       "      <td>Brazil</td>\n",
       "      <td>2.95</td>\n",
       "      <td>1</td>\n",
       "      <td>2.95</td>\n",
       "    </tr>\n",
       "    <tr>\n",
       "      <th>3</th>\n",
       "      <td>2000-04-01</td>\n",
       "      <td>GBP</td>\n",
       "      <td>Britain</td>\n",
       "      <td>1.90</td>\n",
       "      <td>1</td>\n",
       "      <td>1.90</td>\n",
       "    </tr>\n",
       "    <tr>\n",
       "      <th>4</th>\n",
       "      <td>2000-04-01</td>\n",
       "      <td>CAD</td>\n",
       "      <td>Canada</td>\n",
       "      <td>2.85</td>\n",
       "      <td>1</td>\n",
       "      <td>2.85</td>\n",
       "    </tr>\n",
       "    <tr>\n",
       "      <th>...</th>\n",
       "      <td>...</td>\n",
       "      <td>...</td>\n",
       "      <td>...</td>\n",
       "      <td>...</td>\n",
       "      <td>...</td>\n",
       "      <td>...</td>\n",
       "    </tr>\n",
       "    <tr>\n",
       "      <th>1941</th>\n",
       "      <td>2022-07-01</td>\n",
       "      <td>AED</td>\n",
       "      <td>United Arab Emirates</td>\n",
       "      <td>18.00</td>\n",
       "      <td>3</td>\n",
       "      <td>6.00</td>\n",
       "    </tr>\n",
       "    <tr>\n",
       "      <th>1942</th>\n",
       "      <td>2022-07-01</td>\n",
       "      <td>USD</td>\n",
       "      <td>United States</td>\n",
       "      <td>5.15</td>\n",
       "      <td>1</td>\n",
       "      <td>5.15</td>\n",
       "    </tr>\n",
       "    <tr>\n",
       "      <th>1943</th>\n",
       "      <td>2022-07-01</td>\n",
       "      <td>UYU</td>\n",
       "      <td>Uruguay</td>\n",
       "      <td>255.00</td>\n",
       "      <td>41</td>\n",
       "      <td>6.22</td>\n",
       "    </tr>\n",
       "    <tr>\n",
       "      <th>1944</th>\n",
       "      <td>2022-07-01</td>\n",
       "      <td>VES</td>\n",
       "      <td>Venezuela</td>\n",
       "      <td>10.00</td>\n",
       "      <td>5</td>\n",
       "      <td>2.00</td>\n",
       "    </tr>\n",
       "    <tr>\n",
       "      <th>1945</th>\n",
       "      <td>2022-07-01</td>\n",
       "      <td>VND</td>\n",
       "      <td>Vietnam</td>\n",
       "      <td>69000.00</td>\n",
       "      <td>23417</td>\n",
       "      <td>2.95</td>\n",
       "    </tr>\n",
       "  </tbody>\n",
       "</table>\n",
       "<p>1946 rows × 6 columns</p>\n",
       "</div>"
      ],
      "text/plain": [
       "            date currency_code                  name  local_price  dollar_ex  \\\n",
       "0     2000-04-01           ARS             Argentina         2.50          1   \n",
       "1     2000-04-01           AUD             Australia         2.59          1   \n",
       "2     2000-04-01           BRL                Brazil         2.95          1   \n",
       "3     2000-04-01           GBP               Britain         1.90          1   \n",
       "4     2000-04-01           CAD                Canada         2.85          1   \n",
       "...          ...           ...                   ...          ...        ...   \n",
       "1941  2022-07-01           AED  United Arab Emirates        18.00          3   \n",
       "1942  2022-07-01           USD         United States         5.15          1   \n",
       "1943  2022-07-01           UYU               Uruguay       255.00         41   \n",
       "1944  2022-07-01           VES             Venezuela        10.00          5   \n",
       "1945  2022-07-01           VND               Vietnam     69000.00      23417   \n",
       "\n",
       "      dollar_price  \n",
       "0             2.50  \n",
       "1             2.59  \n",
       "2             2.95  \n",
       "3             1.90  \n",
       "4             2.85  \n",
       "...            ...  \n",
       "1941          6.00  \n",
       "1942          5.15  \n",
       "1943          6.22  \n",
       "1944          2.00  \n",
       "1945          2.95  \n",
       "\n",
       "[1946 rows x 6 columns]"
      ]
     },
     "execution_count": 6,
     "metadata": {},
     "output_type": "execute_result"
    }
   ],
   "source": [
    "# display the whole dataframe\n",
    "bigmac_df"
   ]
  },
  {
   "cell_type": "markdown",
   "id": "fb4dccbf",
   "metadata": {},
   "source": [
    "Here, you can see that the dataframe has 1946 rows and 6 columns."
   ]
  },
  {
   "attachments": {
    "image.png": {
     "image/png": "[encoded data removed]"
    }
   },
   "cell_type": "markdown",
   "id": "840a2d46",
   "metadata": {},
   "source": [
    "## 4. Features of the data frame\n",
    "\n",
    "![image.png](attachment:image.png)"
   ]
  },
  {
   "cell_type": "markdown",
   "id": "147b2f07",
   "metadata": {},
   "source": [
    "## 5. Add Headers\n",
    "\n",
    "Take a look at the data set. Let's say you want to **rename** the \"Name\" column to \"Country\" column. Also, you want to **reset** the headers. **Pandas automatically set the header with an integer starting from 0.**\n",
    "\n",
    "First, create a list \"headers\" that include all column names in order. Then, use <code>df.columns = headers</code> to replace the headers with the list you created."
   ]
  },
  {
   "cell_type": "code",
   "execution_count": 8,
   "id": "55e9ad82",
   "metadata": {},
   "outputs": [
    {
     "data": {
      "text/plain": [
       "Index(['Date', 'Currency_Code', 'Country', 'Local_Price', 'Dollar_Ex',\n",
       "       'Dollar_Price'],\n",
       "      dtype='object')"
      ]
     },
     "execution_count": 8,
     "metadata": {},
     "output_type": "execute_result"
    }
   ],
   "source": [
    "# Create headers list\n",
    "headers = [\"Date\", \"Currency_Code\", \"Country\", \"Local_Price\", \"Dollar_Ex\", \"Dollar_Price\"]\n",
    "\n",
    "# Replace headers and recheck data frame\n",
    "bigmac_df.columns = headers\n",
    "bigmac_df.columns"
   ]
  },
  {
   "cell_type": "code",
   "execution_count": 9,
   "id": "49db3af2",
   "metadata": {},
   "outputs": [
    {
     "data": {
      "text/html": [
       "<div>\n",
       "<style scoped>\n",
       "    .dataframe tbody tr th:only-of-type {\n",
       "        vertical-align: middle;\n",
       "    }\n",
       "\n",
       "    .dataframe tbody tr th {\n",
       "        vertical-align: top;\n",
       "    }\n",
       "\n",
       "    .dataframe thead th {\n",
       "        text-align: right;\n",
       "    }\n",
       "</style>\n",
       "<table border=\"1\" class=\"dataframe\">\n",
       "  <thead>\n",
       "    <tr style=\"text-align: right;\">\n",
       "      <th></th>\n",
       "      <th>Date</th>\n",
       "      <th>Currency_Code</th>\n",
       "      <th>Country</th>\n",
       "      <th>Local_Price</th>\n",
       "      <th>Dollar_Ex</th>\n",
       "      <th>Dollar_Price</th>\n",
       "    </tr>\n",
       "  </thead>\n",
       "  <tbody>\n",
       "    <tr>\n",
       "      <th>0</th>\n",
       "      <td>2000-04-01</td>\n",
       "      <td>ARS</td>\n",
       "      <td>Argentina</td>\n",
       "      <td>2.50</td>\n",
       "      <td>1</td>\n",
       "      <td>2.50</td>\n",
       "    </tr>\n",
       "    <tr>\n",
       "      <th>1</th>\n",
       "      <td>2000-04-01</td>\n",
       "      <td>AUD</td>\n",
       "      <td>Australia</td>\n",
       "      <td>2.59</td>\n",
       "      <td>1</td>\n",
       "      <td>2.59</td>\n",
       "    </tr>\n",
       "    <tr>\n",
       "      <th>2</th>\n",
       "      <td>2000-04-01</td>\n",
       "      <td>BRL</td>\n",
       "      <td>Brazil</td>\n",
       "      <td>2.95</td>\n",
       "      <td>1</td>\n",
       "      <td>2.95</td>\n",
       "    </tr>\n",
       "    <tr>\n",
       "      <th>3</th>\n",
       "      <td>2000-04-01</td>\n",
       "      <td>GBP</td>\n",
       "      <td>Britain</td>\n",
       "      <td>1.90</td>\n",
       "      <td>1</td>\n",
       "      <td>1.90</td>\n",
       "    </tr>\n",
       "    <tr>\n",
       "      <th>4</th>\n",
       "      <td>2000-04-01</td>\n",
       "      <td>CAD</td>\n",
       "      <td>Canada</td>\n",
       "      <td>2.85</td>\n",
       "      <td>1</td>\n",
       "      <td>2.85</td>\n",
       "    </tr>\n",
       "    <tr>\n",
       "      <th>...</th>\n",
       "      <td>...</td>\n",
       "      <td>...</td>\n",
       "      <td>...</td>\n",
       "      <td>...</td>\n",
       "      <td>...</td>\n",
       "      <td>...</td>\n",
       "    </tr>\n",
       "    <tr>\n",
       "      <th>1941</th>\n",
       "      <td>2022-07-01</td>\n",
       "      <td>AED</td>\n",
       "      <td>United Arab Emirates</td>\n",
       "      <td>18.00</td>\n",
       "      <td>3</td>\n",
       "      <td>6.00</td>\n",
       "    </tr>\n",
       "    <tr>\n",
       "      <th>1942</th>\n",
       "      <td>2022-07-01</td>\n",
       "      <td>USD</td>\n",
       "      <td>United States</td>\n",
       "      <td>5.15</td>\n",
       "      <td>1</td>\n",
       "      <td>5.15</td>\n",
       "    </tr>\n",
       "    <tr>\n",
       "      <th>1943</th>\n",
       "      <td>2022-07-01</td>\n",
       "      <td>UYU</td>\n",
       "      <td>Uruguay</td>\n",
       "      <td>255.00</td>\n",
       "      <td>41</td>\n",
       "      <td>6.22</td>\n",
       "    </tr>\n",
       "    <tr>\n",
       "      <th>1944</th>\n",
       "      <td>2022-07-01</td>\n",
       "      <td>VES</td>\n",
       "      <td>Venezuela</td>\n",
       "      <td>10.00</td>\n",
       "      <td>5</td>\n",
       "      <td>2.00</td>\n",
       "    </tr>\n",
       "    <tr>\n",
       "      <th>1945</th>\n",
       "      <td>2022-07-01</td>\n",
       "      <td>VND</td>\n",
       "      <td>Vietnam</td>\n",
       "      <td>69000.00</td>\n",
       "      <td>23417</td>\n",
       "      <td>2.95</td>\n",
       "    </tr>\n",
       "  </tbody>\n",
       "</table>\n",
       "<p>1946 rows × 6 columns</p>\n",
       "</div>"
      ],
      "text/plain": [
       "            Date Currency_Code               Country  Local_Price  Dollar_Ex  \\\n",
       "0     2000-04-01           ARS             Argentina         2.50          1   \n",
       "1     2000-04-01           AUD             Australia         2.59          1   \n",
       "2     2000-04-01           BRL                Brazil         2.95          1   \n",
       "3     2000-04-01           GBP               Britain         1.90          1   \n",
       "4     2000-04-01           CAD                Canada         2.85          1   \n",
       "...          ...           ...                   ...          ...        ...   \n",
       "1941  2022-07-01           AED  United Arab Emirates        18.00          3   \n",
       "1942  2022-07-01           USD         United States         5.15          1   \n",
       "1943  2022-07-01           UYU               Uruguay       255.00         41   \n",
       "1944  2022-07-01           VES             Venezuela        10.00          5   \n",
       "1945  2022-07-01           VND               Vietnam     69000.00      23417   \n",
       "\n",
       "      Dollar_Price  \n",
       "0             2.50  \n",
       "1             2.59  \n",
       "2             2.95  \n",
       "3             1.90  \n",
       "4             2.85  \n",
       "...            ...  \n",
       "1941          6.00  \n",
       "1942          5.15  \n",
       "1943          6.22  \n",
       "1944          2.00  \n",
       "1945          2.95  \n",
       "\n",
       "[1946 rows x 6 columns]"
      ]
     },
     "execution_count": 9,
     "metadata": {},
     "output_type": "execute_result"
    }
   ],
   "source": [
    "bigmac_df"
   ]
  },
  {
   "cell_type": "markdown",
   "id": "30778dbd",
   "metadata": {},
   "source": [
    "## 6. Checking for NaN Values in the DataFrame\n",
    "\n",
    "There could be NaN(Not a Number) values in the DataFrame, which could be objects in Pandas. However, since it is a huge dataset with 1946 rows, it is time consuming to check one by one.\n",
    "\n",
    "You can check for NaN values per column or for the entire DataFrame at once. Here are some methods:\n",
    "\n",
    "<code>x = df.isnull().sum()</code>\n",
    "This will give the count of NaN values in **each column** of the DataFrame."
   ]
  },
  {
   "cell_type": "code",
   "execution_count": 10,
   "id": "c3a366b8",
   "metadata": {},
   "outputs": [
    {
     "data": {
      "text/plain": [
       "Date             0\n",
       "Currency_Code    0\n",
       "Country          0\n",
       "Local_Price      0\n",
       "Dollar_Ex        0\n",
       "Dollar_Price     0\n",
       "dtype: int64"
      ]
     },
     "execution_count": 10,
     "metadata": {},
     "output_type": "execute_result"
    }
   ],
   "source": [
    "# Check for NaN values per column\n",
    "nan_per_column = bigmac_df.isnull().sum()\n",
    "nan_per_column"
   ]
  },
  {
   "cell_type": "markdown",
   "id": "16c1a90e",
   "metadata": {},
   "source": [
    "<code>x = df.isnull().sum().sum()</code>\n",
    "This will give the total count of NaN values in the **entire DataFrame.**"
   ]
  },
  {
   "cell_type": "code",
   "execution_count": 11,
   "id": "499b5a92",
   "metadata": {},
   "outputs": [
    {
     "name": "stdout",
     "output_type": "stream",
     "text": [
      "Total NaN values in DataFrame: 0\n"
     ]
    }
   ],
   "source": [
    "# Check for NaN values in the entire DataFrame\n",
    "nan_total = bigmac_df.isnull().sum().sum()\n",
    "print(\"Total NaN values in DataFrame:\", nan_total)\n"
   ]
  },
  {
   "cell_type": "markdown",
   "id": "43b52b21",
   "metadata": {},
   "source": [
    "This implies that the dataset is complete, and there are no missing values in any of the columns or the dataset."
   ]
  },
  {
   "cell_type": "markdown",
   "id": "24113baa",
   "metadata": {},
   "source": [
    "## 7. dropna() method\n",
    "\n",
    "However, in a case wherein there are NaN values found, it is important to drop NaN (Not a Number) objects in Pandas because they represent **missing or undefined values** in the data. NaN values can affect the accuracy and reliability of your data analysis.\n",
    "\n",
    "The <code>dropna()</code> method in pandas is used to remove missing values (NaN, null values) from a DataFrame or Series object. It provides flexibility in terms of which **axis (rows or columns)** to consider for dropping, as well as the **threshold for the number of missing values required to trigger dropping.**\n",
    "\n",
    "**Axis** specifies whether to drop rows <code>(axis=0)</code> or columns <code>(axis=1)</code> that contain missing values. **By default, it's set to 0, meaning it drops rows.**"
   ]
  },
  {
   "cell_type": "code",
   "execution_count": 12,
   "id": "dc90fe67",
   "metadata": {},
   "outputs": [
    {
     "data": {
      "text/plain": [
       "'sample code if NaN Values are found in dataset\\n# drop missing values along the column \"x\" as follows\\ndf = df1.dropna(subset = [\"x\"], axis = 0)\\ndf.head()\\n'"
      ]
     },
     "execution_count": 12,
     "metadata": {},
     "output_type": "execute_result"
    }
   ],
   "source": [
    "\"\"\"sample code if NaN Values are found in dataset\n",
    "# drop missing values along the column \"x\" as follows\n",
    "df = df1.dropna(subset = [\"x\"], axis = 0)\n",
    "df.head()\n",
    "\"\"\""
   ]
  },
  {
   "cell_type": "markdown",
   "id": "0cc93862",
   "metadata": {},
   "source": [
    "# 8. Save Dataset\n",
    "\n",
    "Correspondingly, Pandas enables you to save the data set to CSV. By using the <code>dataframe.to_csv()</code> method, you can add the file path and name along with quotation marks in the brackets.\n",
    "\n",
    "\n",
    "If you want to save the DataFrame named df as a file named **bigmac.csv** on your computer, you can use the following code.\n",
    "\n",
    "The <code>index=False</code> part means that the row names or indices will not be saved along with the data."
   ]
  },
  {
   "cell_type": "code",
   "execution_count": 14,
   "id": "6f450dfe",
   "metadata": {},
   "outputs": [],
   "source": [
    "bigmac_df.to_csv(\"bigmac.csv\", index=False)"
   ]
  },
  {
   "attachments": {
    "image.png": {
     "image/png": "[encoded data removed]"
    }
   },
   "cell_type": "markdown",
   "id": "ae42e547",
   "metadata": {},
   "source": [
    "## Read/Save Other Data Formats\n",
    "\n",
    "You can also read and save other file formats. You can use similar functions like <code>pd.read_csv()</code> and <code>df.to_csv()</code> for other data formats. The functions are listed in the following table\n",
    "\n",
    "![image.png](attachment:image.png)"
   ]
  },
  {
   "cell_type": "markdown",
   "id": "7664bc53",
   "metadata": {},
   "source": [
    "# Exploring the Dataset\n",
    "\n",
    "After Successfully extracting  and reading data into Pandas DataFrame, it is important to explore the date set. There are several ways to obtain essential insights of the data to help you better understand it. These can be done with the following:"
   ]
  },
  {
   "cell_type": "markdown",
   "id": "3c808f8b",
   "metadata": {},
   "source": [
    "## 9. Check the Data Types\n",
    "\n",
    "Data has a variety of types. The main types stored in Pandas data frames are **object, float, int, bool and datetime64.** \n",
    "\n",
    "In order to better learn about each attribute, you should always know the data type of each column."
   ]
  },
  {
   "cell_type": "code",
   "execution_count": 15,
   "id": "09fa9047",
   "metadata": {},
   "outputs": [
    {
     "data": {
      "text/plain": [
       "Date              object\n",
       "Currency_Code     object\n",
       "Country           object\n",
       "Local_Price      float64\n",
       "Dollar_Ex          int64\n",
       "Dollar_Price     float64\n",
       "dtype: object"
      ]
     },
     "execution_count": 15,
     "metadata": {},
     "output_type": "execute_result"
    }
   ],
   "source": [
    "# Returns a series with the data type of each column.\n",
    "bigmac_df.dtypes"
   ]
  },
  {
   "cell_type": "markdown",
   "id": "b49f027d",
   "metadata": {},
   "source": [
    "## 10. Get Summary Statistics\n",
    "### bigmac_df.describe(include='all')\n",
    "\n",
    "This code will display **summary statistics** for **all columns** in the DataFrame, including count, unique, top, and frequency for categorical columns, and mean, standard deviation, minimum, maximum, and quartiles for numerical columns."
   ]
  },
  {
   "cell_type": "code",
   "execution_count": 18,
   "id": "bc4e89ab",
   "metadata": {},
   "outputs": [
    {
     "data": {
      "text/html": [
       "<div>\n",
       "<style scoped>\n",
       "    .dataframe tbody tr th:only-of-type {\n",
       "        vertical-align: middle;\n",
       "    }\n",
       "\n",
       "    .dataframe tbody tr th {\n",
       "        vertical-align: top;\n",
       "    }\n",
       "\n",
       "    .dataframe thead th {\n",
       "        text-align: right;\n",
       "    }\n",
       "</style>\n",
       "<table border=\"1\" class=\"dataframe\">\n",
       "  <thead>\n",
       "    <tr style=\"text-align: right;\">\n",
       "      <th></th>\n",
       "      <th>Date</th>\n",
       "      <th>Currency_Code</th>\n",
       "      <th>Country</th>\n",
       "      <th>Local_Price</th>\n",
       "      <th>Dollar_Ex</th>\n",
       "      <th>Dollar_Price</th>\n",
       "    </tr>\n",
       "  </thead>\n",
       "  <tbody>\n",
       "    <tr>\n",
       "      <th>count</th>\n",
       "      <td>1946</td>\n",
       "      <td>1946</td>\n",
       "      <td>1946</td>\n",
       "      <td>1.946000e+03</td>\n",
       "      <td>1.946000e+03</td>\n",
       "      <td>1946.000000</td>\n",
       "    </tr>\n",
       "    <tr>\n",
       "      <th>unique</th>\n",
       "      <td>37</td>\n",
       "      <td>58</td>\n",
       "      <td>74</td>\n",
       "      <td>NaN</td>\n",
       "      <td>NaN</td>\n",
       "      <td>NaN</td>\n",
       "    </tr>\n",
       "    <tr>\n",
       "      <th>top</th>\n",
       "      <td>2022-01-01</td>\n",
       "      <td>EUR</td>\n",
       "      <td>Argentina</td>\n",
       "      <td>NaN</td>\n",
       "      <td>NaN</td>\n",
       "      <td>NaN</td>\n",
       "    </tr>\n",
       "    <tr>\n",
       "      <th>freq</th>\n",
       "      <td>73</td>\n",
       "      <td>351</td>\n",
       "      <td>37</td>\n",
       "      <td>NaN</td>\n",
       "      <td>NaN</td>\n",
       "      <td>NaN</td>\n",
       "    </tr>\n",
       "    <tr>\n",
       "      <th>mean</th>\n",
       "      <td>NaN</td>\n",
       "      <td>NaN</td>\n",
       "      <td>NaN</td>\n",
       "      <td>1.581609e+04</td>\n",
       "      <td>4.722255e+03</td>\n",
       "      <td>3.568011</td>\n",
       "    </tr>\n",
       "    <tr>\n",
       "      <th>std</th>\n",
       "      <td>NaN</td>\n",
       "      <td>NaN</td>\n",
       "      <td>NaN</td>\n",
       "      <td>3.940050e+05</td>\n",
       "      <td>1.006232e+05</td>\n",
       "      <td>1.417054</td>\n",
       "    </tr>\n",
       "    <tr>\n",
       "      <th>min</th>\n",
       "      <td>NaN</td>\n",
       "      <td>NaN</td>\n",
       "      <td>NaN</td>\n",
       "      <td>0.000000e+00</td>\n",
       "      <td>1.000000e+00</td>\n",
       "      <td>0.000000</td>\n",
       "    </tr>\n",
       "    <tr>\n",
       "      <th>25%</th>\n",
       "      <td>NaN</td>\n",
       "      <td>NaN</td>\n",
       "      <td>NaN</td>\n",
       "      <td>4.450000e+00</td>\n",
       "      <td>1.000000e+00</td>\n",
       "      <td>2.572500</td>\n",
       "    </tr>\n",
       "    <tr>\n",
       "      <th>50%</th>\n",
       "      <td>NaN</td>\n",
       "      <td>NaN</td>\n",
       "      <td>NaN</td>\n",
       "      <td>1.500000e+01</td>\n",
       "      <td>5.000000e+00</td>\n",
       "      <td>3.400000</td>\n",
       "    </tr>\n",
       "    <tr>\n",
       "      <th>75%</th>\n",
       "      <td>NaN</td>\n",
       "      <td>NaN</td>\n",
       "      <td>NaN</td>\n",
       "      <td>8.700000e+01</td>\n",
       "      <td>3.200000e+01</td>\n",
       "      <td>4.240000</td>\n",
       "    </tr>\n",
       "    <tr>\n",
       "      <th>max</th>\n",
       "      <td>NaN</td>\n",
       "      <td>NaN</td>\n",
       "      <td>NaN</td>\n",
       "      <td>1.602000e+07</td>\n",
       "      <td>3.613989e+06</td>\n",
       "      <td>11.250000</td>\n",
       "    </tr>\n",
       "  </tbody>\n",
       "</table>\n",
       "</div>"
      ],
      "text/plain": [
       "              Date Currency_Code    Country   Local_Price     Dollar_Ex  \\\n",
       "count         1946          1946       1946  1.946000e+03  1.946000e+03   \n",
       "unique          37            58         74           NaN           NaN   \n",
       "top     2022-01-01           EUR  Argentina           NaN           NaN   \n",
       "freq            73           351         37           NaN           NaN   \n",
       "mean           NaN           NaN        NaN  1.581609e+04  4.722255e+03   \n",
       "std            NaN           NaN        NaN  3.940050e+05  1.006232e+05   \n",
       "min            NaN           NaN        NaN  0.000000e+00  1.000000e+00   \n",
       "25%            NaN           NaN        NaN  4.450000e+00  1.000000e+00   \n",
       "50%            NaN           NaN        NaN  1.500000e+01  5.000000e+00   \n",
       "75%            NaN           NaN        NaN  8.700000e+01  3.200000e+01   \n",
       "max            NaN           NaN        NaN  1.602000e+07  3.613989e+06   \n",
       "\n",
       "        Dollar_Price  \n",
       "count    1946.000000  \n",
       "unique           NaN  \n",
       "top              NaN  \n",
       "freq             NaN  \n",
       "mean        3.568011  \n",
       "std         1.417054  \n",
       "min         0.000000  \n",
       "25%         2.572500  \n",
       "50%         3.400000  \n",
       "75%         4.240000  \n",
       "max        11.250000  "
      ]
     },
     "execution_count": 18,
     "metadata": {},
     "output_type": "execute_result"
    }
   ],
   "source": [
    "# Display the summary of the DataFrame to check if the data is imported correctly\n",
    "bigmac_df.describe(include='all')"
   ]
  },
  {
   "cell_type": "markdown",
   "id": "36cf44af",
   "metadata": {},
   "source": [
    "## describe() method: Select particular columns/series in the data frame\n",
    "\n",
    "You can select the columns of a dataframe by indicating the name of each column. For example, you can select the three columns as follows:\n",
    "\n",
    "<code>dataframe[[' column 1 ',column 2', 'column 3']]</code>\n",
    "\n",
    "Where **colum** is the name of the column, you can apply the method <code>.describe()</code> to get the statistics of those columns as follows:\n",
    "\n",
    "<code>dataframe[[' column 1 ',column 2', 'column 3'] ].describe()</code>\n",
    "\n"
   ]
  },
  {
   "cell_type": "code",
   "execution_count": 19,
   "id": "b73bda2c",
   "metadata": {},
   "outputs": [
    {
     "data": {
      "text/html": [
       "<div>\n",
       "<style scoped>\n",
       "    .dataframe tbody tr th:only-of-type {\n",
       "        vertical-align: middle;\n",
       "    }\n",
       "\n",
       "    .dataframe tbody tr th {\n",
       "        vertical-align: top;\n",
       "    }\n",
       "\n",
       "    .dataframe thead th {\n",
       "        text-align: right;\n",
       "    }\n",
       "</style>\n",
       "<table border=\"1\" class=\"dataframe\">\n",
       "  <thead>\n",
       "    <tr style=\"text-align: right;\">\n",
       "      <th></th>\n",
       "      <th>Local_Price</th>\n",
       "      <th>Dollar_Ex</th>\n",
       "      <th>Dollar_Price</th>\n",
       "    </tr>\n",
       "  </thead>\n",
       "  <tbody>\n",
       "    <tr>\n",
       "      <th>count</th>\n",
       "      <td>1.946000e+03</td>\n",
       "      <td>1.946000e+03</td>\n",
       "      <td>1946.000000</td>\n",
       "    </tr>\n",
       "    <tr>\n",
       "      <th>mean</th>\n",
       "      <td>1.581609e+04</td>\n",
       "      <td>4.722255e+03</td>\n",
       "      <td>3.568011</td>\n",
       "    </tr>\n",
       "    <tr>\n",
       "      <th>std</th>\n",
       "      <td>3.940050e+05</td>\n",
       "      <td>1.006232e+05</td>\n",
       "      <td>1.417054</td>\n",
       "    </tr>\n",
       "    <tr>\n",
       "      <th>min</th>\n",
       "      <td>0.000000e+00</td>\n",
       "      <td>1.000000e+00</td>\n",
       "      <td>0.000000</td>\n",
       "    </tr>\n",
       "    <tr>\n",
       "      <th>25%</th>\n",
       "      <td>4.450000e+00</td>\n",
       "      <td>1.000000e+00</td>\n",
       "      <td>2.572500</td>\n",
       "    </tr>\n",
       "    <tr>\n",
       "      <th>50%</th>\n",
       "      <td>1.500000e+01</td>\n",
       "      <td>5.000000e+00</td>\n",
       "      <td>3.400000</td>\n",
       "    </tr>\n",
       "    <tr>\n",
       "      <th>75%</th>\n",
       "      <td>8.700000e+01</td>\n",
       "      <td>3.200000e+01</td>\n",
       "      <td>4.240000</td>\n",
       "    </tr>\n",
       "    <tr>\n",
       "      <th>max</th>\n",
       "      <td>1.602000e+07</td>\n",
       "      <td>3.613989e+06</td>\n",
       "      <td>11.250000</td>\n",
       "    </tr>\n",
       "  </tbody>\n",
       "</table>\n",
       "</div>"
      ],
      "text/plain": [
       "        Local_Price     Dollar_Ex  Dollar_Price\n",
       "count  1.946000e+03  1.946000e+03   1946.000000\n",
       "mean   1.581609e+04  4.722255e+03      3.568011\n",
       "std    3.940050e+05  1.006232e+05      1.417054\n",
       "min    0.000000e+00  1.000000e+00      0.000000\n",
       "25%    4.450000e+00  1.000000e+00      2.572500\n",
       "50%    1.500000e+01  5.000000e+00      3.400000\n",
       "75%    8.700000e+01  3.200000e+01      4.240000\n",
       "max    1.602000e+07  3.613989e+06     11.250000"
      ]
     },
     "execution_count": 19,
     "metadata": {},
     "output_type": "execute_result"
    }
   ],
   "source": [
    "bigmac_df[['Local_Price', 'Dollar_Ex', 'Dollar_Price']].describe()"
   ]
  },
  {
   "cell_type": "markdown",
   "id": "221412bb",
   "metadata": {},
   "source": [
    "## 11. Info\n",
    "**It provides a concise summary of the dataframe.**\n",
    "\n",
    "This method prints information about a data frame including the index dtype and columns, non-null values and memory usage."
   ]
  },
  {
   "cell_type": "code",
   "execution_count": 20,
   "id": "d8f67f69",
   "metadata": {},
   "outputs": [
    {
     "name": "stdout",
     "output_type": "stream",
     "text": [
      "<class 'pandas.core.frame.DataFrame'>\n",
      "RangeIndex: 1946 entries, 0 to 1945\n",
      "Data columns (total 6 columns):\n",
      " #   Column         Non-Null Count  Dtype  \n",
      "---  ------         --------------  -----  \n",
      " 0   Date           1946 non-null   object \n",
      " 1   Currency_Code  1946 non-null   object \n",
      " 2   Country        1946 non-null   object \n",
      " 3   Local_Price    1946 non-null   float64\n",
      " 4   Dollar_Ex      1946 non-null   int64  \n",
      " 5   Dollar_Price   1946 non-null   float64\n",
      "dtypes: float64(2), int64(1), object(3)\n",
      "memory usage: 91.3+ KB\n"
     ]
    }
   ],
   "source": [
    "bigmac_df.info()"
   ]
  }
 ],
 "metadata": {
  "kernelspec": {
   "display_name": "Python 3 (ipykernel)",
   "language": "python",
   "name": "python3"
  },
  "language_info": {
   "codemirror_mode": {
    "name": "ipython",
    "version": 3
   },
   "file_extension": ".py",
   "mimetype": "text/x-python",
   "name": "python",
   "nbconvert_exporter": "python",
   "pygments_lexer": "ipython3",
   "version": "3.11.4"
  }
 },
 "nbformat": 4,
 "nbformat_minor": 5
}
