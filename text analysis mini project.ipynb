{
 "cells": [
  {
   "cell_type": "markdown",
   "id": "02d5b2ed",
   "metadata": {},
   "source": [
    "# My Mini Project: Text Analysis\n",
    "\n",
    "## Text Analysis in Python\n",
    "\n",
    "Text analysis, also known as text mining or text analytics, refers to the process of extracting meaningful information and insights from textual data.\n",
    "\n",
    "### Objectives\n",
    "\n",
    "Use Python commands to perform text analysis. \n",
    "- conver texts to lowercase\n",
    "- finding and counting frequency of all unique words and specified words\n",
    "\n",
    "### Instructions\n",
    "\n",
    "Data Types used in this mini project:\n",
    "1. List\n",
    "2. Strings\n",
    "3. Classes and Objects\n",
    "\n",
    "**I am a customer feedback analyist and my task is to work with a large dataset of customer reviews online. The dataset is a string type. My task is to extract and divide into 3 useful informations:**\n",
    "\n",
    "**Task 1: String in lower case**\n",
    "To prepare the customer feedback, I'll convert all the text to lowercase. This process standardizes the text and enables focus on the content rather than the specific letter casing.\n",
    "\n",
    "**Task 2: Frequency of all words in a given string**\n",
    "Once the text is transformed into lowercase, the aim is to analyze the frequency of each word in the customer feedback. This analysis assists in identifying frequently used words, shedding light on the main topics or aspects mentioned by customers. By examining word frequencies, valuable insights into the most prevalent issues raised by customers can be obtained.\n",
    "\n",
    "**Task 3: Frequency of a specific word**\n",
    "Besides examining the general word frequencies, it's important to monitor the occurrence of a specific word relevant to my analysis. For instance, tracking the frequency of \"reliable\" in customer reviews can help gauge sentiment towards the product's reliability. By concentrating on the frequency of a particular word, I can gain deeper insights into customer opinions or preferences regarding that specific aspect.\n",
    "\n",
    "By performing these tasks on the customer feedback dataset, you can gain valuable insights into customer sentiment"
   ]
  },
  {
   "cell_type": "markdown",
   "id": "e4fdd279",
   "metadata": {},
   "source": [
    "_______________________________________________________________________________________"
   ]
  },
  {
   "cell_type": "markdown",
   "id": "e241fdc4",
   "metadata": {},
   "source": [
    "## Part A\n",
    "*Create 3 classes with 3 different methods since there are 3 different tasks.*\n",
    "\n",
    "### 1. Define a string"
   ]
  },
  {
   "cell_type": "code",
   "execution_count": null,
   "id": "1a6292a9",
   "metadata": {},
   "outputs": [],
   "source": [
    "# These texts are nonsensical and are commonly used as placeholders in various design and publishing contexts.\n",
    "\n",
    "customer_review_string = \"In hac habitasse platea dictumst. Etiam tempor orci eu lobortis elementum? Mauris ac justo vitae turpis ultricies auctor!\""
   ]
  },
  {
   "cell_type": "markdown",
   "id": "9e764350",
   "metadata": {},
   "source": []
  },
  {
   "cell_type": "markdown",
   "id": "8e5b7640",
   "metadata": {},
   "source": [
    "### 2. Define the class and its attributes:\n",
    "\n",
    "1. Create a Class named \"analyser\".\n",
    "2. Define the constructor __init__ method that takes a text argument.\n"
   ]
  },
  {
   "cell_type": "code",
   "execution_count": null,
   "id": "86ec5388",
   "metadata": {},
   "outputs": [],
   "source": [
    "# create a class\n",
    "class analyser(object):\n",
    "    # initialize the class with 'text' parameter\n",
    "    # store 'text'as an instance variable\n",
    "    def __init__(self, text):"
   ]
  },
  {
   "cell_type": "markdown",
   "id": "174653b4",
   "metadata": {},
   "source": []
  },
  {
   "cell_type": "markdown",
   "id": "4227aa69",
   "metadata": {},
   "source": [
    "### 3. Format the text to lowercase:\n",
    "\n",
    "1. Convert text to lowercase -lower() method\n",
    "2. Remove punctuation marks - replace() method\n",
    "3. Create a new attribute and assign new formatted text there"
   ]
  },
  {
   "cell_type": "code",
   "execution_count": null,
   "id": "0566ef29",
   "metadata": {},
   "outputs": [],
   "source": [
    "class analyser(object):\n",
    "    def __init__(self, text):\n",
    "        # remove punctuations\n",
    "        format_text = text.replace(\".\",\"\").replace(\"!\",\"\").replace(\"?\",\"\").replace(\",\",\"\")\n",
    "        \n",
    "        # make lowercase\n",
    "        format_text = format_text.lower()\n",
    "        self.ft = format_text"
   ]
  },
  {
   "cell_type": "markdown",
   "id": "939799c3",
   "metadata": {},
   "source": [
    "**explanation**\n",
    "\n",
    "1. Removing Punctuation: The code uses the replace() method to remove punctuation marks from the text input. Each punctuation mark (periods, exclamation marks, question marks, and commas) is replaced with an empty string, effectively removing them from the text.\n",
    "\n",
    "2. Converting to Lowercase: After removing the punctuation, the code converts the text to lowercase using the lower() method.\n",
    "\n",
    "3. the code assigns the formatted text to an attribute of the class instance using self.ft = format_text."
   ]
  },
  {
   "cell_type": "markdown",
   "id": "9f9fded1",
   "metadata": {},
   "source": []
  },
  {
   "cell_type": "markdown",
   "id": "b0637d17",
   "metadata": {},
   "source": [
    "### 4. Create a code to count the frequency of all unique words\n",
    "\n",
    "\n",
    "I'll create the **freqAll()** method with the following instructions:\n",
    "\n",
    "1. Split the text stored in the ft attribute into individual words using the split() method.\n",
    "\n",
    "2. Initialize an empty dictionary to hold the word frequencies.\n",
    "\n",
    "3. Go through the list of words and update the frequency dictionary accordingly by using for loop.\n",
    "\n",
    "4. Utilize the count method to tally the occurrences of each word.\n",
    "\n",
    "5. Finally, return the frequency dictionary."
   ]
  },
  {
   "cell_type": "code",
   "execution_count": 5,
   "id": "ebc2054a",
   "metadata": {},
   "outputs": [],
   "source": [
    "class analyser(object):\n",
    "    def __init__(self, text):\n",
    "        # remove punctuations\n",
    "        format_text = text.replace(\".\",\"\").replace(\"!\",\"\").replace(\"?\",\"\").replace(\",\",\"\")\n",
    "        \n",
    "        # make lowercase\n",
    "        format_text = format_text.lower()\n",
    "        self.ft = format_text\n",
    "        \n",
    "    def frequency_words(self):\n",
    "        # split text into words\n",
    "        split_words = self.ft.split(\" \")\n",
    "        \n",
    "        # empty dict\n",
    "        frequency_dict = {}\n",
    "        \n",
    "        for word in set(split_words):\n",
    "            frequency_dict[word] = split_words.count(word)\n",
    "        return frequency_dict"
   ]
  },
  {
   "cell_type": "markdown",
   "id": "0108f286",
   "metadata": {},
   "source": [
    "**def frequency_words(self): explanation**\n",
    "Calculating Word Frequencies: It iterates over the unique set of words in split_words. For each word, it counts how many times it appears in the entire list using the **count()** method, and assigns this count as the value in the dictionary corresponding to the word as the key.\n",
    "\n",
    "Returning the Frequency Dictionary: Finally, it returns the frequency_dict containing the frequency of each word in the text."
   ]
  },
  {
   "cell_type": "markdown",
   "id": "750fc159",
   "metadata": {},
   "source": []
  },
  {
   "cell_type": "markdown",
   "id": "b2cf25ea",
   "metadata": {},
   "source": [
    "### 5. Create a code to count the frequency of specific words \n",
    "\n",
    "Implement the **freqOf(word)** method that takes a word argument:\n",
    "\n",
    "1. Create method and pass the word that need to be found.\n",
    "\n",
    "2. Get the freqAll method for look for count and check if that word is in the list.\n",
    "\n",
    "3. Return the count. If the word is not found, the count returned is 0."
   ]
  },
  {
   "cell_type": "code",
   "execution_count": null,
   "id": "8a6b395c",
   "metadata": {},
   "outputs": [],
   "source": [
    "class analyser(object):\n",
    "    def __init__(self, text):\n",
    "        # remove punctuations\n",
    "        format_text = text.replace(\".\",\"\").replace(\"!\",\"\").replace(\"?\",\"\").replace(\",\",\"\")\n",
    "        \n",
    "        # make lowercase\n",
    "        format_text = format_text.lower()\n",
    "        self.ft = format_text\n",
    "        \n",
    "    def frequency_words(self):\n",
    "        # split text into words\n",
    "        split_words = self.ft.split(\" \")\n",
    "        \n",
    "        # empty dict\n",
    "        frequency_dict = {}\n",
    "        \n",
    "        for word in set(split_words):\n",
    "            frequency_dict[word] = split_words.count(word)\n",
    "        return frequency_dict\n",
    "    \n",
    "    def freqOf(self,word):\n",
    "        # get frequency map\n",
    "        frequency_dict = self.frequency_words()\n",
    "        \n",
    "        if word in frequency_dict:\n",
    "            return frequency_dict[word]\n",
    "        else:\n",
    "            return 0"
   ]
  },
  {
   "cell_type": "markdown",
   "id": "fca1a2a0",
   "metadata": {},
   "source": [
    "_______________________________________________________________________________________"
   ]
  },
  {
   "cell_type": "markdown",
   "id": "32e04c4e",
   "metadata": {},
   "source": [
    "## Part B\n",
    "*Call the methods/functions created, execute and generate outputs.*"
   ]
  },
  {
   "cell_type": "code",
   "execution_count": null,
   "id": "f65c1ed0",
   "metadata": {},
   "outputs": [],
   "source": [
    "# Create an instance of analyser class\n",
    "\n",
    "# pass the customer_review_string as an argument in the class.\n",
    "# assign to variable \"checked\".\n",
    "checked = analyser(customer_review_string)\n",
    "\n",
    "# Call the function to convert the string to lowercase\n",
    "print('Formatted Text:', analysed.ft)\n",
    "\n",
    "# Call the function that counts unique words\n",
    "frequency_words = checked.frequency_words()\n",
    "print(frequency_words)\n",
    "\n",
    "# Call the function that counts frequency of specific words\n",
    "word = \"lorem\"\n",
    "frequency = checked.freqOf(word)\n",
    "print(\"The word\",word,\"appears\",frequency,\"times.\")"
   ]
  },
  {
   "cell_type": "markdown",
   "id": "8a3e7ccd",
   "metadata": {},
   "source": [
    "## Final Code:"
   ]
  },
  {
   "cell_type": "code",
   "execution_count": null,
   "id": "cb8a5937",
   "metadata": {},
   "outputs": [],
   "source": [
    "# These texts are nonsensical and are commonly used as placeholders in various design and publishing contexts.\n",
    "\n",
    "customer_review_string = \"In hac habitasse platea dictumst. Etiam tempor orci eu lobortis elementum? Mauris ac justo vitae turpis ultricies auctor!\"\n",
    "\n",
    "class analyser(object):\n",
    "    def __init__(self, text):\n",
    "        # remove punctuations\n",
    "        format_text = text.replace(\".\",\"\").replace(\"!\",\"\").replace(\"?\",\"\").replace(\",\",\"\")\n",
    "        \n",
    "        # make lowercase\n",
    "        format_text = format_text.lower()\n",
    "        self.ft = format_text\n",
    "        \n",
    "    def frequency_words(self):\n",
    "        # split text into words\n",
    "        split_words = self.ft.split(\" \")\n",
    "        \n",
    "        # empty dict\n",
    "        frequency_dict = {}\n",
    "        \n",
    "        for word in set(split_words):\n",
    "            frequency_dict[word] = split_words.count(word)\n",
    "        return frequency_dict\n",
    "    \n",
    "    def freqOf(self,word):\n",
    "        # get frequency map\n",
    "        frequency_dict = self.frequency_words()\n",
    "        \n",
    "        if word in frequency_dict:\n",
    "            return frequency_dict[word]\n",
    "        else:\n",
    "            return 0\n",
    "        \n",
    "# pass the customer_review_string as an argument in the class.\n",
    "# assign to variable \"checked\".\n",
    "checked = analyser(customer_review_string)\n",
    "\n",
    "# Call the function to convert the string to lowercase\n",
    "print('Formatted Text:', checked.ft)\n",
    "\n",
    "# Call the function that counts unique words\n",
    "frequency_words = checked.frequency_words()\n",
    "print(frequency_words)\n",
    "\n",
    "# Call the function that counts frequency of specific words\n",
    "word = \"lorem\"\n",
    "frequency = checked.freqOf(word)\n",
    "print(\"The word\",word,\"appears\",frequency,\"times.\")\n"
   ]
  }
 ],
 "metadata": {
  "kernelspec": {
   "display_name": "Python 3 (ipykernel)",
   "language": "python",
   "name": "python3"
  },
  "language_info": {
   "codemirror_mode": {
    "name": "ipython",
    "version": 3
   },
   "file_extension": ".py",
   "mimetype": "text/x-python",
   "name": "python",
   "nbconvert_exporter": "python",
   "pygments_lexer": "ipython3",
   "version": "3.11.4"
  }
 },
 "nbformat": 4,
 "nbformat_minor": 5
}
