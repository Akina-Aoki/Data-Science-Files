{
 "cells": [
  {
   "cell_type": "markdown",
   "id": "a4ef8b53",
   "metadata": {},
   "source": [
    "# Exploratory Data Analysis\n",
    "\n",
    "Documentation about Introduction to Data Wrangling link: http://localhost:8888/notebooks/Data%20Wrangling%20Introduction.ipynb\n",
    "\n",
    "Documentation about Data Wrangling Laptop Price Dataset link:\n",
    "http://localhost:8891/notebooks/Data%20Wrangling%20Laptop%20Pricing%20Dataset.ipynb\n",
    "\n",
    "Documentation about Exploratory Data Analysis Car Price Dataset link:\n",
    "http://localhost:8888/notebooks/EDA%20Automobile.ipynb#\n",
    "\n",
    "\n",
    "# Objectives\n",
    "\n",
    "- Use the final results for a next project to create computer programs that learn from data to help with analysis. Improve how well these programs work by choosing important factors that affect what we're trying to predict. This will make our predictions more accurate and faster.\n",
    "\n",
    "# Contents\n",
    "\n",
    "1. Visualize individual feature patterns\n",
    "2. Run descriptive statistical analysis on the dataset\n",
    "3. Use groups and pivot tables to find the effect of categorical variables on price\n",
    "4. Use Pearson Correlation to measure the interdependence between variables"
   ]
  },
  {
   "cell_type": "markdown",
   "id": "170c27f5",
   "metadata": {},
   "source": [
    "# Import Libraries\n",
    "**import requests In able for Line 4 to be successful and resolve the NameError**\n",
    "\n",
    "If you're running the code within a Jupyter Notebook and if you haven't already installed the requests library, you will indeed need to install it using pip install requests in your terminal or command prompt.\n",
    "\n",
    "After executing this command, you should be able to import and use the requests library in your notebook. Then, you can proceed with the rest of the code to download the dataset.\n",
    "\n",
    "This code will download the dataset from the provided URL and save it with the specified filename in the current directory. You can then use pandas.read_csv() to read the CSV file into a DataFrame as usual."
   ]
  },
  {
   "cell_type": "code",
   "execution_count": 1,
   "id": "bcde9a70",
   "metadata": {},
   "outputs": [
    {
     "name": "stdout",
     "output_type": "stream",
     "text": [
      "Requirement already satisfied: requests in c:\\users\\jocke\\anaconda3\\lib\\site-packages (2.31.0)\n",
      "Requirement already satisfied: charset-normalizer<4,>=2 in c:\\users\\jocke\\anaconda3\\lib\\site-packages (from requests) (2.0.4)\n",
      "Requirement already satisfied: idna<4,>=2.5 in c:\\users\\jocke\\anaconda3\\lib\\site-packages (from requests) (3.4)\n",
      "Requirement already satisfied: urllib3<3,>=1.21.1 in c:\\users\\jocke\\anaconda3\\lib\\site-packages (from requests) (1.26.16)\n",
      "Requirement already satisfied: certifi>=2017.4.17 in c:\\users\\jocke\\anaconda3\\lib\\site-packages (from requests) (2023.7.22)\n"
     ]
    }
   ],
   "source": [
    "!pip install requests"
   ]
  },
  {
   "cell_type": "markdown",
   "id": "cc566096",
   "metadata": {},
   "source": [
    "**To install Seaborn we use pip, the Python package manager.**"
   ]
  },
  {
   "cell_type": "code",
   "execution_count": 2,
   "id": "aeed218e",
   "metadata": {},
   "outputs": [
    {
     "name": "stdout",
     "output_type": "stream",
     "text": [
      "Requirement already satisfied: seaborn in c:\\users\\jocke\\anaconda3\\lib\\site-packages (0.12.2)\n",
      "Requirement already satisfied: numpy!=1.24.0,>=1.17 in c:\\users\\jocke\\anaconda3\\lib\\site-packages (from seaborn) (1.24.3)\n",
      "Requirement already satisfied: pandas>=0.25 in c:\\users\\jocke\\anaconda3\\lib\\site-packages (from seaborn) (1.5.3)\n",
      "Requirement already satisfied: matplotlib!=3.6.1,>=3.1 in c:\\users\\jocke\\anaconda3\\lib\\site-packages (from seaborn) (3.7.1)\n",
      "Requirement already satisfied: contourpy>=1.0.1 in c:\\users\\jocke\\anaconda3\\lib\\site-packages (from matplotlib!=3.6.1,>=3.1->seaborn) (1.0.5)\n",
      "Requirement already satisfied: cycler>=0.10 in c:\\users\\jocke\\anaconda3\\lib\\site-packages (from matplotlib!=3.6.1,>=3.1->seaborn) (0.11.0)\n",
      "Requirement already satisfied: fonttools>=4.22.0 in c:\\users\\jocke\\anaconda3\\lib\\site-packages (from matplotlib!=3.6.1,>=3.1->seaborn) (4.25.0)\n",
      "Requirement already satisfied: kiwisolver>=1.0.1 in c:\\users\\jocke\\anaconda3\\lib\\site-packages (from matplotlib!=3.6.1,>=3.1->seaborn) (1.4.4)\n",
      "Requirement already satisfied: packaging>=20.0 in c:\\users\\jocke\\anaconda3\\lib\\site-packages (from matplotlib!=3.6.1,>=3.1->seaborn) (23.0)\n",
      "Requirement already satisfied: pillow>=6.2.0 in c:\\users\\jocke\\anaconda3\\lib\\site-packages (from matplotlib!=3.6.1,>=3.1->seaborn) (9.4.0)\n",
      "Requirement already satisfied: pyparsing>=2.3.1 in c:\\users\\jocke\\anaconda3\\lib\\site-packages (from matplotlib!=3.6.1,>=3.1->seaborn) (3.0.9)\n",
      "Requirement already satisfied: python-dateutil>=2.7 in c:\\users\\jocke\\anaconda3\\lib\\site-packages (from matplotlib!=3.6.1,>=3.1->seaborn) (2.8.2)\n",
      "Requirement already satisfied: pytz>=2020.1 in c:\\users\\jocke\\anaconda3\\lib\\site-packages (from pandas>=0.25->seaborn) (2022.7)\n",
      "Requirement already satisfied: six>=1.5 in c:\\users\\jocke\\anaconda3\\lib\\site-packages (from python-dateutil>=2.7->matplotlib!=3.6.1,>=3.1->seaborn) (1.16.0)\n"
     ]
    }
   ],
   "source": [
    "!pip install seaborn"
   ]
  },
  {
   "cell_type": "markdown",
   "id": "942ec350",
   "metadata": {},
   "source": [
    "**Import visualization packages \"Matplotlib\" and \"Seaborn\". Don't forget about \"%matplotlib inline\" to plot in a Jupyter notebook.**\n",
    "\n",
    "**About %matplotlib inline**\n",
    "\n",
    "A command used in Jupyter Notebook to tell it to display plots directly within the notebook itself right below the code cell created rather than in a separate window or file."
   ]
  },
  {
   "cell_type": "code",
   "execution_count": 5,
   "id": "b3129825",
   "metadata": {},
   "outputs": [],
   "source": [
    "import requests\n",
    "import pandas as pd                # managing the data\n",
    "import numpy as np                 # mathematical operations\n",
    "import seaborn as sns              # data visualization\n",
    "import matplotlib.pyplot as plt    #additional plotting tools\n",
    "%matplotlib inline                 \n",
    "import scipy                       # statistical operations"
   ]
  },
  {
   "attachments": {
    "image.png": {
     "image/png": "[encoded data removed]"
    }
   },
   "cell_type": "markdown",
   "id": "b85f7d55",
   "metadata": {},
   "source": [
    "# Read CSV file into Pandas DataFrame\n",
    "*File Path provided by IBM Data Analysis Course in Coursera.*\n",
    "\n",
    "1. Copy this URL and load it in browser.\n",
    "\n",
    "filepath=\"https://cf-courses-data.s3.us.cloud-object-storage.appdomain.cloud/IBMDeveloperSkillsNetwork-DA0101EN-Coursera/laptop_pricing_dataset_mod2.csv\"\n",
    "\n",
    "2. Excel file will come up.\n",
    "![image.png](attachment:image.png)\n",
    "Download the file.\n",
    "\n",
    "3. Copy path link\n",
    "Look for the file and copy path.\n",
    "\n",
    "4. Convert the path link into either**Raw String Literal** or **Escape Backslashes.** Use the new link as the file path."
   ]
  },
  {
   "cell_type": "code",
   "execution_count": null,
   "id": "fca5af32",
   "metadata": {},
   "outputs": [],
   "source": [
    "filepath=\"https://cf-courses-data.s3.us.cloud-object-storage.appdomain.cloud/IBMDeveloperSkillsNetwork-DA0101EN-Coursera/laptop_pricing_dataset_mod2.csv\""
   ]
  },
  {
   "cell_type": "code",
   "execution_count": 8,
   "id": "98782718",
   "metadata": {},
   "outputs": [
    {
     "data": {
      "text/html": [
       "<div>\n",
       "<style scoped>\n",
       "    .dataframe tbody tr th:only-of-type {\n",
       "        vertical-align: middle;\n",
       "    }\n",
       "\n",
       "    .dataframe tbody tr th {\n",
       "        vertical-align: top;\n",
       "    }\n",
       "\n",
       "    .dataframe thead th {\n",
       "        text-align: right;\n",
       "    }\n",
       "</style>\n",
       "<table border=\"1\" class=\"dataframe\">\n",
       "  <thead>\n",
       "    <tr style=\"text-align: right;\">\n",
       "      <th></th>\n",
       "      <th>Unnamed: 0.1</th>\n",
       "      <th>Unnamed: 0</th>\n",
       "      <th>Manufacturer</th>\n",
       "      <th>Category</th>\n",
       "      <th>GPU</th>\n",
       "      <th>OS</th>\n",
       "      <th>CPU_core</th>\n",
       "      <th>Screen_Size_inch</th>\n",
       "      <th>CPU_frequency</th>\n",
       "      <th>RAM_GB</th>\n",
       "      <th>Storage_GB_SSD</th>\n",
       "      <th>Weight_pounds</th>\n",
       "      <th>Price</th>\n",
       "      <th>Price-binned</th>\n",
       "      <th>Screen-Full_HD</th>\n",
       "      <th>Screen-IPS_panel</th>\n",
       "    </tr>\n",
       "  </thead>\n",
       "  <tbody>\n",
       "    <tr>\n",
       "      <th>0</th>\n",
       "      <td>0</td>\n",
       "      <td>0</td>\n",
       "      <td>Acer</td>\n",
       "      <td>4</td>\n",
       "      <td>2</td>\n",
       "      <td>1</td>\n",
       "      <td>5</td>\n",
       "      <td>14.0</td>\n",
       "      <td>0.551724</td>\n",
       "      <td>8</td>\n",
       "      <td>256</td>\n",
       "      <td>3.52800</td>\n",
       "      <td>978</td>\n",
       "      <td>Low</td>\n",
       "      <td>0</td>\n",
       "      <td>1</td>\n",
       "    </tr>\n",
       "    <tr>\n",
       "      <th>1</th>\n",
       "      <td>1</td>\n",
       "      <td>1</td>\n",
       "      <td>Dell</td>\n",
       "      <td>3</td>\n",
       "      <td>1</td>\n",
       "      <td>1</td>\n",
       "      <td>3</td>\n",
       "      <td>15.6</td>\n",
       "      <td>0.689655</td>\n",
       "      <td>4</td>\n",
       "      <td>256</td>\n",
       "      <td>4.85100</td>\n",
       "      <td>634</td>\n",
       "      <td>Low</td>\n",
       "      <td>1</td>\n",
       "      <td>0</td>\n",
       "    </tr>\n",
       "    <tr>\n",
       "      <th>2</th>\n",
       "      <td>2</td>\n",
       "      <td>2</td>\n",
       "      <td>Dell</td>\n",
       "      <td>3</td>\n",
       "      <td>1</td>\n",
       "      <td>1</td>\n",
       "      <td>7</td>\n",
       "      <td>15.6</td>\n",
       "      <td>0.931034</td>\n",
       "      <td>8</td>\n",
       "      <td>256</td>\n",
       "      <td>4.85100</td>\n",
       "      <td>946</td>\n",
       "      <td>Low</td>\n",
       "      <td>1</td>\n",
       "      <td>0</td>\n",
       "    </tr>\n",
       "    <tr>\n",
       "      <th>3</th>\n",
       "      <td>3</td>\n",
       "      <td>3</td>\n",
       "      <td>Dell</td>\n",
       "      <td>4</td>\n",
       "      <td>2</td>\n",
       "      <td>1</td>\n",
       "      <td>5</td>\n",
       "      <td>13.3</td>\n",
       "      <td>0.551724</td>\n",
       "      <td>8</td>\n",
       "      <td>128</td>\n",
       "      <td>2.69010</td>\n",
       "      <td>1244</td>\n",
       "      <td>Low</td>\n",
       "      <td>0</td>\n",
       "      <td>1</td>\n",
       "    </tr>\n",
       "    <tr>\n",
       "      <th>4</th>\n",
       "      <td>4</td>\n",
       "      <td>4</td>\n",
       "      <td>HP</td>\n",
       "      <td>4</td>\n",
       "      <td>2</td>\n",
       "      <td>1</td>\n",
       "      <td>7</td>\n",
       "      <td>15.6</td>\n",
       "      <td>0.620690</td>\n",
       "      <td>8</td>\n",
       "      <td>256</td>\n",
       "      <td>4.21155</td>\n",
       "      <td>837</td>\n",
       "      <td>Low</td>\n",
       "      <td>1</td>\n",
       "      <td>0</td>\n",
       "    </tr>\n",
       "  </tbody>\n",
       "</table>\n",
       "</div>"
      ],
      "text/plain": [
       "   Unnamed: 0.1  Unnamed: 0 Manufacturer  Category  GPU  OS  CPU_core  \\\n",
       "0             0           0         Acer         4    2   1         5   \n",
       "1             1           1         Dell         3    1   1         3   \n",
       "2             2           2         Dell         3    1   1         7   \n",
       "3             3           3         Dell         4    2   1         5   \n",
       "4             4           4           HP         4    2   1         7   \n",
       "\n",
       "   Screen_Size_inch  CPU_frequency  RAM_GB  Storage_GB_SSD  Weight_pounds  \\\n",
       "0              14.0       0.551724       8             256        3.52800   \n",
       "1              15.6       0.689655       4             256        4.85100   \n",
       "2              15.6       0.931034       8             256        4.85100   \n",
       "3              13.3       0.551724       8             128        2.69010   \n",
       "4              15.6       0.620690       8             256        4.21155   \n",
       "\n",
       "   Price Price-binned  Screen-Full_HD  Screen-IPS_panel  \n",
       "0    978          Low               0                 1  \n",
       "1    634          Low               1                 0  \n",
       "2    946          Low               1                 0  \n",
       "3   1244          Low               0                 1  \n",
       "4    837          Low               1                 0  "
      ]
     },
     "execution_count": 8,
     "metadata": {},
     "output_type": "execute_result"
    }
   ],
   "source": [
    "# Define the URL from which to download the data\n",
    "file_url = \"https://cf-courses-data.s3.us.cloud-object-storage.appdomain.cloud/IBMDeveloperSkillsNetwork-DA0101EN-SkillsNetwork/labs/Data%20files/automobileEDA.csv\"\n",
    "response = requests.get(file_url)\n",
    "\n",
    "# Use pandas to read the CSV file into a DataFrame\n",
    "file_path = r\"C:\\Users\\jocke\\Documents\\Aira\\All Python Files\\IBM Data Science\\laptop_pricing_dataset_mod2.csv\"\n",
    "\n",
    "df = pd.read_csv(file_path, header = 0)\n",
    "\n",
    "# Display the first few rows of the DataFrame to check if the data is imported correctly\n",
    "df.head()\n"
   ]
  },
  {
   "cell_type": "code",
   "execution_count": 9,
   "id": "49a2d2d7",
   "metadata": {},
   "outputs": [
    {
     "data": {
      "text/html": [
       "<div>\n",
       "<style scoped>\n",
       "    .dataframe tbody tr th:only-of-type {\n",
       "        vertical-align: middle;\n",
       "    }\n",
       "\n",
       "    .dataframe tbody tr th {\n",
       "        vertical-align: top;\n",
       "    }\n",
       "\n",
       "    .dataframe thead th {\n",
       "        text-align: right;\n",
       "    }\n",
       "</style>\n",
       "<table border=\"1\" class=\"dataframe\">\n",
       "  <thead>\n",
       "    <tr style=\"text-align: right;\">\n",
       "      <th></th>\n",
       "      <th>Unnamed: 0.1</th>\n",
       "      <th>Unnamed: 0</th>\n",
       "      <th>Manufacturer</th>\n",
       "      <th>Category</th>\n",
       "      <th>GPU</th>\n",
       "      <th>OS</th>\n",
       "      <th>CPU_core</th>\n",
       "      <th>Screen_Size_inch</th>\n",
       "      <th>CPU_frequency</th>\n",
       "      <th>RAM_GB</th>\n",
       "      <th>Storage_GB_SSD</th>\n",
       "      <th>Weight_pounds</th>\n",
       "      <th>Price</th>\n",
       "      <th>Price-binned</th>\n",
       "      <th>Screen-Full_HD</th>\n",
       "      <th>Screen-IPS_panel</th>\n",
       "    </tr>\n",
       "  </thead>\n",
       "  <tbody>\n",
       "    <tr>\n",
       "      <th>0</th>\n",
       "      <td>0</td>\n",
       "      <td>0</td>\n",
       "      <td>Acer</td>\n",
       "      <td>4</td>\n",
       "      <td>2</td>\n",
       "      <td>1</td>\n",
       "      <td>5</td>\n",
       "      <td>14.0</td>\n",
       "      <td>0.551724</td>\n",
       "      <td>8</td>\n",
       "      <td>256</td>\n",
       "      <td>3.52800</td>\n",
       "      <td>978</td>\n",
       "      <td>Low</td>\n",
       "      <td>0</td>\n",
       "      <td>1</td>\n",
       "    </tr>\n",
       "    <tr>\n",
       "      <th>1</th>\n",
       "      <td>1</td>\n",
       "      <td>1</td>\n",
       "      <td>Dell</td>\n",
       "      <td>3</td>\n",
       "      <td>1</td>\n",
       "      <td>1</td>\n",
       "      <td>3</td>\n",
       "      <td>15.6</td>\n",
       "      <td>0.689655</td>\n",
       "      <td>4</td>\n",
       "      <td>256</td>\n",
       "      <td>4.85100</td>\n",
       "      <td>634</td>\n",
       "      <td>Low</td>\n",
       "      <td>1</td>\n",
       "      <td>0</td>\n",
       "    </tr>\n",
       "    <tr>\n",
       "      <th>2</th>\n",
       "      <td>2</td>\n",
       "      <td>2</td>\n",
       "      <td>Dell</td>\n",
       "      <td>3</td>\n",
       "      <td>1</td>\n",
       "      <td>1</td>\n",
       "      <td>7</td>\n",
       "      <td>15.6</td>\n",
       "      <td>0.931034</td>\n",
       "      <td>8</td>\n",
       "      <td>256</td>\n",
       "      <td>4.85100</td>\n",
       "      <td>946</td>\n",
       "      <td>Low</td>\n",
       "      <td>1</td>\n",
       "      <td>0</td>\n",
       "    </tr>\n",
       "    <tr>\n",
       "      <th>3</th>\n",
       "      <td>3</td>\n",
       "      <td>3</td>\n",
       "      <td>Dell</td>\n",
       "      <td>4</td>\n",
       "      <td>2</td>\n",
       "      <td>1</td>\n",
       "      <td>5</td>\n",
       "      <td>13.3</td>\n",
       "      <td>0.551724</td>\n",
       "      <td>8</td>\n",
       "      <td>128</td>\n",
       "      <td>2.69010</td>\n",
       "      <td>1244</td>\n",
       "      <td>Low</td>\n",
       "      <td>0</td>\n",
       "      <td>1</td>\n",
       "    </tr>\n",
       "    <tr>\n",
       "      <th>4</th>\n",
       "      <td>4</td>\n",
       "      <td>4</td>\n",
       "      <td>HP</td>\n",
       "      <td>4</td>\n",
       "      <td>2</td>\n",
       "      <td>1</td>\n",
       "      <td>7</td>\n",
       "      <td>15.6</td>\n",
       "      <td>0.620690</td>\n",
       "      <td>8</td>\n",
       "      <td>256</td>\n",
       "      <td>4.21155</td>\n",
       "      <td>837</td>\n",
       "      <td>Low</td>\n",
       "      <td>1</td>\n",
       "      <td>0</td>\n",
       "    </tr>\n",
       "    <tr>\n",
       "      <th>...</th>\n",
       "      <td>...</td>\n",
       "      <td>...</td>\n",
       "      <td>...</td>\n",
       "      <td>...</td>\n",
       "      <td>...</td>\n",
       "      <td>...</td>\n",
       "      <td>...</td>\n",
       "      <td>...</td>\n",
       "      <td>...</td>\n",
       "      <td>...</td>\n",
       "      <td>...</td>\n",
       "      <td>...</td>\n",
       "      <td>...</td>\n",
       "      <td>...</td>\n",
       "      <td>...</td>\n",
       "      <td>...</td>\n",
       "    </tr>\n",
       "    <tr>\n",
       "      <th>233</th>\n",
       "      <td>233</td>\n",
       "      <td>233</td>\n",
       "      <td>Lenovo</td>\n",
       "      <td>4</td>\n",
       "      <td>2</td>\n",
       "      <td>1</td>\n",
       "      <td>7</td>\n",
       "      <td>14.0</td>\n",
       "      <td>0.896552</td>\n",
       "      <td>8</td>\n",
       "      <td>256</td>\n",
       "      <td>3.74850</td>\n",
       "      <td>1891</td>\n",
       "      <td>Medium</td>\n",
       "      <td>0</td>\n",
       "      <td>1</td>\n",
       "    </tr>\n",
       "    <tr>\n",
       "      <th>234</th>\n",
       "      <td>234</td>\n",
       "      <td>234</td>\n",
       "      <td>Toshiba</td>\n",
       "      <td>3</td>\n",
       "      <td>2</td>\n",
       "      <td>1</td>\n",
       "      <td>5</td>\n",
       "      <td>13.3</td>\n",
       "      <td>0.827586</td>\n",
       "      <td>8</td>\n",
       "      <td>256</td>\n",
       "      <td>2.64600</td>\n",
       "      <td>1950</td>\n",
       "      <td>Medium</td>\n",
       "      <td>1</td>\n",
       "      <td>0</td>\n",
       "    </tr>\n",
       "    <tr>\n",
       "      <th>235</th>\n",
       "      <td>235</td>\n",
       "      <td>235</td>\n",
       "      <td>Lenovo</td>\n",
       "      <td>4</td>\n",
       "      <td>2</td>\n",
       "      <td>1</td>\n",
       "      <td>5</td>\n",
       "      <td>12.0</td>\n",
       "      <td>0.896552</td>\n",
       "      <td>8</td>\n",
       "      <td>256</td>\n",
       "      <td>2.99880</td>\n",
       "      <td>2236</td>\n",
       "      <td>Medium</td>\n",
       "      <td>0</td>\n",
       "      <td>1</td>\n",
       "    </tr>\n",
       "    <tr>\n",
       "      <th>236</th>\n",
       "      <td>236</td>\n",
       "      <td>236</td>\n",
       "      <td>Lenovo</td>\n",
       "      <td>3</td>\n",
       "      <td>3</td>\n",
       "      <td>1</td>\n",
       "      <td>5</td>\n",
       "      <td>15.6</td>\n",
       "      <td>0.862069</td>\n",
       "      <td>6</td>\n",
       "      <td>256</td>\n",
       "      <td>5.29200</td>\n",
       "      <td>883</td>\n",
       "      <td>Low</td>\n",
       "      <td>1</td>\n",
       "      <td>0</td>\n",
       "    </tr>\n",
       "    <tr>\n",
       "      <th>237</th>\n",
       "      <td>237</td>\n",
       "      <td>237</td>\n",
       "      <td>Toshiba</td>\n",
       "      <td>3</td>\n",
       "      <td>2</td>\n",
       "      <td>1</td>\n",
       "      <td>5</td>\n",
       "      <td>14.0</td>\n",
       "      <td>0.793103</td>\n",
       "      <td>8</td>\n",
       "      <td>256</td>\n",
       "      <td>4.29975</td>\n",
       "      <td>1499</td>\n",
       "      <td>Low</td>\n",
       "      <td>1</td>\n",
       "      <td>0</td>\n",
       "    </tr>\n",
       "  </tbody>\n",
       "</table>\n",
       "<p>238 rows × 16 columns</p>\n",
       "</div>"
      ],
      "text/plain": [
       "     Unnamed: 0.1  Unnamed: 0 Manufacturer  Category  GPU  OS  CPU_core  \\\n",
       "0               0           0         Acer         4    2   1         5   \n",
       "1               1           1         Dell         3    1   1         3   \n",
       "2               2           2         Dell         3    1   1         7   \n",
       "3               3           3         Dell         4    2   1         5   \n",
       "4               4           4           HP         4    2   1         7   \n",
       "..            ...         ...          ...       ...  ...  ..       ...   \n",
       "233           233         233       Lenovo         4    2   1         7   \n",
       "234           234         234      Toshiba         3    2   1         5   \n",
       "235           235         235       Lenovo         4    2   1         5   \n",
       "236           236         236       Lenovo         3    3   1         5   \n",
       "237           237         237      Toshiba         3    2   1         5   \n",
       "\n",
       "     Screen_Size_inch  CPU_frequency  RAM_GB  Storage_GB_SSD  Weight_pounds  \\\n",
       "0                14.0       0.551724       8             256        3.52800   \n",
       "1                15.6       0.689655       4             256        4.85100   \n",
       "2                15.6       0.931034       8             256        4.85100   \n",
       "3                13.3       0.551724       8             128        2.69010   \n",
       "4                15.6       0.620690       8             256        4.21155   \n",
       "..                ...            ...     ...             ...            ...   \n",
       "233              14.0       0.896552       8             256        3.74850   \n",
       "234              13.3       0.827586       8             256        2.64600   \n",
       "235              12.0       0.896552       8             256        2.99880   \n",
       "236              15.6       0.862069       6             256        5.29200   \n",
       "237              14.0       0.793103       8             256        4.29975   \n",
       "\n",
       "     Price Price-binned  Screen-Full_HD  Screen-IPS_panel  \n",
       "0      978          Low               0                 1  \n",
       "1      634          Low               1                 0  \n",
       "2      946          Low               1                 0  \n",
       "3     1244          Low               0                 1  \n",
       "4      837          Low               1                 0  \n",
       "..     ...          ...             ...               ...  \n",
       "233   1891       Medium               0                 1  \n",
       "234   1950       Medium               1                 0  \n",
       "235   2236       Medium               0                 1  \n",
       "236    883          Low               1                 0  \n",
       "237   1499          Low               1                 0  \n",
       "\n",
       "[238 rows x 16 columns]"
      ]
     },
     "metadata": {},
     "output_type": "display_data"
    }
   ],
   "source": [
    "# Display whole DataFrame\n",
    "display(df)"
   ]
  },
  {
   "cell_type": "markdown",
   "id": "3f61f5d6",
   "metadata": {},
   "source": [
    "### header = 0 explanation\n",
    "\n",
    "<code>file_path = 'laptops.csv'\n",
    "df = pd.read_csv(file_path, header = 0)</code>\n",
    "\n",
    "When you read a CSV file into a DataFrame using <code>pd.read_csv()</code> in pandas, the header parameter determines which row in the CSV file is considered as the header, i.e., the row that contains the column names.\n",
    "\n",
    "Use <code>header=0</code> when you are sure that the first row of the CSV file contains the column names. It is a good practice for clarity and explicitness in your code.\n",
    "\n",
    "## Verify DataFrame Loading\n",
    "\n",
    "Verify loading by displaying the dataframe summary using <code>df.info()</code>"
   ]
  },
  {
   "cell_type": "code",
   "execution_count": 10,
   "id": "2fdbbaef",
   "metadata": {},
   "outputs": [
    {
     "name": "stdout",
     "output_type": "stream",
     "text": [
      "<class 'pandas.core.frame.DataFrame'>\n",
      "RangeIndex: 238 entries, 0 to 237\n",
      "Data columns (total 16 columns):\n",
      " #   Column            Non-Null Count  Dtype  \n",
      "---  ------            --------------  -----  \n",
      " 0   Unnamed: 0.1      238 non-null    int64  \n",
      " 1   Unnamed: 0        238 non-null    int64  \n",
      " 2   Manufacturer      238 non-null    object \n",
      " 3   Category          238 non-null    int64  \n",
      " 4   GPU               238 non-null    int64  \n",
      " 5   OS                238 non-null    int64  \n",
      " 6   CPU_core          238 non-null    int64  \n",
      " 7   Screen_Size_inch  238 non-null    float64\n",
      " 8   CPU_frequency     238 non-null    float64\n",
      " 9   RAM_GB            238 non-null    int64  \n",
      " 10  Storage_GB_SSD    238 non-null    int64  \n",
      " 11  Weight_pounds     238 non-null    float64\n",
      " 12  Price             238 non-null    int64  \n",
      " 13  Price-binned      238 non-null    object \n",
      " 14  Screen-Full_HD    238 non-null    int64  \n",
      " 15  Screen-IPS_panel  238 non-null    int64  \n",
      "dtypes: float64(3), int64(11), object(2)\n",
      "memory usage: 29.9+ KB\n"
     ]
    },
    {
     "data": {
      "text/plain": [
       "None"
      ]
     },
     "metadata": {},
     "output_type": "display_data"
    }
   ],
   "source": [
    "display(df.info())"
   ]
  },
  {
   "cell_type": "markdown",
   "id": "a8fe7d74",
   "metadata": {},
   "source": [
    "## .info() result\n",
    "\n",
    "A **non-null** values are those that do have data recorded. They are not empty or missing.\n",
    "\n",
    "A **null-value** typically represents missing or empty data.\n",
    "\n",
    "**Non-null count** The output indicates that each column in the dataset has 201 non-null values. This means that there are no missing or empty values (null values) in any of the columns."
   ]
  },
  {
   "cell_type": "markdown",
   "id": "42ef2b53",
   "metadata": {},
   "source": [
    "# 1. Visualize individual feature patterns\n",
    "\n",
    "### Task 1: Create graphs that show how <code>\"CPU_frequency\", \"Screen_Size_inch\"</code>, and <code>\"Weight_pounds\"</code> relate to <code>\"Price\"</code>. Additionally, display the correlation value of each feature with \"Price\".\n",
    "\n",
    "<code>sns.regplot()</code>\n",
    "- is a function provided by the Seaborn library, which is commonly used for statistical data visualization in Python. This function is used to create a scatter plot with a linear regression line fit to the data. It stands for \"regression plot\" in Seaborn\n",
    "\n",
    "<code>plt.ylim(0,)</code>\n",
    "-  sets the limits of the y-axis on the plot created by <code>sns.regplot</code>. Specifically, it sets the lower limit of the y-axis to 0 and leaves the upper limit unspecified."
   ]
  },
  {
   "cell_type": "code",
   "execution_count": 12,
   "id": "923763ad",
   "metadata": {},
   "outputs": [
    {
     "data": {
      "text/plain": [
       "(0.0, 3974.15)"
      ]
     },
     "execution_count": 12,
     "metadata": {},
     "output_type": "execute_result"
    },
    {
     "data": {
      "image/png": "[encoded data removed]",
      "text/plain": [
       "<Figure size 640x480 with 1 Axes>"
      ]
     },
     "metadata": {},
     "output_type": "display_data"
    }
   ],
   "source": [
    "# CPU_frequency\n",
    "sns.regplot(x=\"CPU_frequency\", y=\"Price\", data=df)\n",
    "plt.ylim(0,)"
   ]
  },
  {
   "cell_type": "code",
   "execution_count": 13,
   "id": "e0710148",
   "metadata": {},
   "outputs": [
    {
     "data": {
      "text/plain": [
       "(0.0, 3974.15)"
      ]
     },
     "execution_count": 13,
     "metadata": {},
     "output_type": "execute_result"
    },
    {
     "data": {
      "image/png": "[encoded data removed]",
      "text/plain": [
       "<Figure size 640x480 with 1 Axes>"
      ]
     },
     "metadata": {},
     "output_type": "display_data"
    }
   ],
   "source": [
    "# Screen:size_inch\n",
    "sns.regplot(x = \"Screen_Size_inch\", y = \"Price\", data = df)\n",
    "plt.ylim(0,)"
   ]
  },
  {
   "cell_type": "code",
   "execution_count": 14,
   "id": "de7766ec",
   "metadata": {},
   "outputs": [
    {
     "data": {
      "text/plain": [
       "(0.0, 3974.15)"
      ]
     },
     "execution_count": 14,
     "metadata": {},
     "output_type": "execute_result"
    },
    {
     "data": {
      "image/png": "[encoded data removed]",
      "text/plain": [
       "<Figure size 640x480 with 1 Axes>"
      ]
     },
     "metadata": {},
     "output_type": "display_data"
    }
   ],
   "source": [
    "# Weight_pounds plot\n",
    "sns.regplot(x=\"Weight_pounds\", y=\"Price\", data=df)\n",
    "plt.ylim(0,)"
   ]
  },
  {
   "cell_type": "code",
   "execution_count": 15,
   "id": "ca91aa36",
   "metadata": {},
   "outputs": [
    {
     "name": "stdout",
     "output_type": "stream",
     "text": [
      "Correlation of Price and CPU_frequency is                 CPU_frequency     Price\n",
      "CPU_frequency       1.000000  0.366666\n",
      "Price               0.366666  1.000000\n",
      "Correlation of Price and Screen_Size_inch is                    Screen_Size_inch     Price\n",
      "Screen_Size_inch          1.000000 -0.110644\n",
      "Price                    -0.110644  1.000000\n",
      "Correlation of Price and Weight_pounds is                 Weight_pounds     Price\n",
      "Weight_pounds       1.000000 -0.050312\n",
      "Price              -0.050312  1.000000\n"
     ]
    }
   ],
   "source": [
    "# Correlation values of the three attributes with Price\n",
    "for param in [\"CPU_frequency\", \"Screen_Size_inch\",\"Weight_pounds\"]:\n",
    "    print(f\"Correlation of Price and {param} is \", df[[param,\"Price\"]].corr())"
   ]
  },
  {
   "cell_type": "markdown",
   "id": "1a19a1f4",
   "metadata": {},
   "source": [
    "# Categorical Features\n",
    "\n",
    "### Task 2: Generate Box plots for the different feature that hold categorical values. These features would be <code>\"Category\", \"GPU\", \"OS\", \"CPU_core\", \"RAM_GB\", \"Storage_GB_SSD\"</code>"
   ]
  },
  {
   "cell_type": "code",
   "execution_count": 16,
   "id": "1f74627e",
   "metadata": {},
   "outputs": [
    {
     "data": {
      "text/plain": [
       "<Axes: xlabel='Category', ylabel='Price'>"
      ]
     },
     "execution_count": 16,
     "metadata": {},
     "output_type": "execute_result"
    },
    {
     "data": {
      "image/png": "[encoded data removed]",
      "text/plain": [
       "<Figure size 640x480 with 1 Axes>"
      ]
     },
     "metadata": {},
     "output_type": "display_data"
    }
   ],
   "source": [
    "# Category Box plot\n",
    "sns.boxplot(x=\"Category\", y=\"Price\", data=df)"
   ]
  },
  {
   "cell_type": "code",
   "execution_count": 17,
   "id": "551f785d",
   "metadata": {
    "scrolled": true
   },
   "outputs": [
    {
     "data": {
      "text/plain": [
       "<Axes: xlabel='GPU', ylabel='Price'>"
      ]
     },
     "execution_count": 17,
     "metadata": {},
     "output_type": "execute_result"
    },
    {
     "data": {
      "image/png": "[encoded data removed]",
      "text/plain": [
       "<Figure size 640x480 with 1 Axes>"
      ]
     },
     "metadata": {},
     "output_type": "display_data"
    }
   ],
   "source": [
    "# GPU Box plot\n",
    "sns.boxplot(x=\"GPU\", y=\"Price\", data=df)"
   ]
  },
  {
   "cell_type": "code",
   "execution_count": 18,
   "id": "c8a9946b",
   "metadata": {},
   "outputs": [
    {
     "data": {
      "text/plain": [
       "<Axes: xlabel='OS', ylabel='Price'>"
      ]
     },
     "execution_count": 18,
     "metadata": {},
     "output_type": "execute_result"
    },
    {
     "data": {
      "image/png": "[encoded data removed]",
      "text/plain": [
       "<Figure size 640x480 with 1 Axes>"
      ]
     },
     "metadata": {},
     "output_type": "display_data"
    }
   ],
   "source": [
    "# OS Box plot\n",
    "sns.boxplot(x=\"OS\", y=\"Price\", data=df)"
   ]
  },
  {
   "cell_type": "code",
   "execution_count": 19,
   "id": "a1a78004",
   "metadata": {
    "scrolled": true
   },
   "outputs": [
    {
     "data": {
      "text/plain": [
       "<Axes: xlabel='CPU_core', ylabel='Price'>"
      ]
     },
     "execution_count": 19,
     "metadata": {},
     "output_type": "execute_result"
    },
    {
     "data": {
      "image/png": "[encoded data removed]",
      "text/plain": [
       "<Figure size 640x480 with 1 Axes>"
      ]
     },
     "metadata": {},
     "output_type": "display_data"
    }
   ],
   "source": [
    "# CPU_core Box plot\n",
    "sns.boxplot(x=\"CPU_core\", y=\"Price\", data=df)"
   ]
  },
  {
   "cell_type": "code",
   "execution_count": 21,
   "id": "8ec89b64",
   "metadata": {},
   "outputs": [
    {
     "data": {
      "text/plain": [
       "<Axes: xlabel='RAM_GB', ylabel='Price'>"
      ]
     },
     "execution_count": 21,
     "metadata": {},
     "output_type": "execute_result"
    },
    {
     "data": {
      "image/png": "[encoded data removed]",
      "text/plain": [
       "<Figure size 640x480 with 1 Axes>"
      ]
     },
     "metadata": {},
     "output_type": "display_data"
    }
   ],
   "source": [
    "# RAM_GB Box plot\n",
    "sns.boxplot(x=\"RAM_GB\", y=\"Price\", data=df)"
   ]
  },
  {
   "cell_type": "code",
   "execution_count": 22,
   "id": "c4ae8735",
   "metadata": {},
   "outputs": [
    {
     "data": {
      "text/plain": [
       "<Axes: xlabel='Storage_GB_SSD', ylabel='Price'>"
      ]
     },
     "execution_count": 22,
     "metadata": {},
     "output_type": "execute_result"
    },
    {
     "data": {
      "image/png": "[encoded data removed]",
      "text/plain": [
       "<Figure size 640x480 with 1 Axes>"
      ]
     },
     "metadata": {},
     "output_type": "display_data"
    }
   ],
   "source": [
    "# Storage_GB_SSD Box plot\n",
    "sns.boxplot(x=\"Storage_GB_SSD\", y=\"Price\", data=df)"
   ]
  },
  {
   "cell_type": "markdown",
   "id": "8a6a62a9",
   "metadata": {},
   "source": [
    "# 2. Run Descriptive Statistical Analysis on Dataset¶\n",
    "\n",
    "## describe()\n",
    "The <code>describe()</code> function gives important information about numerical data in a dataset. It shows:\n",
    "\n",
    "**1. count:** How many data points there are\n",
    "\n",
    "**2. mean** Average value\n",
    "\n",
    "**3. Standard Deviation** How much data tends to vary around the mean\n",
    "\n",
    "**4. min-max** smallest and largest values in the dataset\n",
    "\n",
    "**5. IQR (Interquartile Range: 25%, 50% and 75%)** The range between the 25th and 75th percentiles, which helps understand where most of the data lies\n",
    "\n",
    "### Task 3: Generate the statistical description of all the features being used in the data set. Include \"object\" data types as well."
   ]
  },
  {
   "cell_type": "code",
   "execution_count": 24,
   "id": "dd4c6689",
   "metadata": {},
   "outputs": [
    {
     "data": {
      "text/html": [
       "<div>\n",
       "<style scoped>\n",
       "    .dataframe tbody tr th:only-of-type {\n",
       "        vertical-align: middle;\n",
       "    }\n",
       "\n",
       "    .dataframe tbody tr th {\n",
       "        vertical-align: top;\n",
       "    }\n",
       "\n",
       "    .dataframe thead th {\n",
       "        text-align: right;\n",
       "    }\n",
       "</style>\n",
       "<table border=\"1\" class=\"dataframe\">\n",
       "  <thead>\n",
       "    <tr style=\"text-align: right;\">\n",
       "      <th></th>\n",
       "      <th>Unnamed: 0.1</th>\n",
       "      <th>Unnamed: 0</th>\n",
       "      <th>Category</th>\n",
       "      <th>GPU</th>\n",
       "      <th>OS</th>\n",
       "      <th>CPU_core</th>\n",
       "      <th>Screen_Size_inch</th>\n",
       "      <th>CPU_frequency</th>\n",
       "      <th>RAM_GB</th>\n",
       "      <th>Storage_GB_SSD</th>\n",
       "      <th>Weight_pounds</th>\n",
       "      <th>Price</th>\n",
       "      <th>Screen-Full_HD</th>\n",
       "      <th>Screen-IPS_panel</th>\n",
       "    </tr>\n",
       "  </thead>\n",
       "  <tbody>\n",
       "    <tr>\n",
       "      <th>count</th>\n",
       "      <td>238.000000</td>\n",
       "      <td>238.000000</td>\n",
       "      <td>238.000000</td>\n",
       "      <td>238.000000</td>\n",
       "      <td>238.000000</td>\n",
       "      <td>238.000000</td>\n",
       "      <td>238.000000</td>\n",
       "      <td>238.000000</td>\n",
       "      <td>238.000000</td>\n",
       "      <td>238.000000</td>\n",
       "      <td>238.000000</td>\n",
       "      <td>238.000000</td>\n",
       "      <td>238.000000</td>\n",
       "      <td>238.000000</td>\n",
       "    </tr>\n",
       "    <tr>\n",
       "      <th>mean</th>\n",
       "      <td>118.500000</td>\n",
       "      <td>118.500000</td>\n",
       "      <td>3.205882</td>\n",
       "      <td>2.151261</td>\n",
       "      <td>1.058824</td>\n",
       "      <td>5.630252</td>\n",
       "      <td>14.688655</td>\n",
       "      <td>0.813822</td>\n",
       "      <td>7.882353</td>\n",
       "      <td>245.781513</td>\n",
       "      <td>4.106221</td>\n",
       "      <td>1462.344538</td>\n",
       "      <td>0.676471</td>\n",
       "      <td>0.323529</td>\n",
       "    </tr>\n",
       "    <tr>\n",
       "      <th>std</th>\n",
       "      <td>68.848868</td>\n",
       "      <td>68.848868</td>\n",
       "      <td>0.776533</td>\n",
       "      <td>0.638282</td>\n",
       "      <td>0.235790</td>\n",
       "      <td>1.241787</td>\n",
       "      <td>1.166045</td>\n",
       "      <td>0.141860</td>\n",
       "      <td>2.482603</td>\n",
       "      <td>34.765316</td>\n",
       "      <td>1.078442</td>\n",
       "      <td>574.607699</td>\n",
       "      <td>0.468809</td>\n",
       "      <td>0.468809</td>\n",
       "    </tr>\n",
       "    <tr>\n",
       "      <th>min</th>\n",
       "      <td>0.000000</td>\n",
       "      <td>0.000000</td>\n",
       "      <td>1.000000</td>\n",
       "      <td>1.000000</td>\n",
       "      <td>1.000000</td>\n",
       "      <td>3.000000</td>\n",
       "      <td>12.000000</td>\n",
       "      <td>0.413793</td>\n",
       "      <td>4.000000</td>\n",
       "      <td>128.000000</td>\n",
       "      <td>1.786050</td>\n",
       "      <td>527.000000</td>\n",
       "      <td>0.000000</td>\n",
       "      <td>0.000000</td>\n",
       "    </tr>\n",
       "    <tr>\n",
       "      <th>25%</th>\n",
       "      <td>59.250000</td>\n",
       "      <td>59.250000</td>\n",
       "      <td>3.000000</td>\n",
       "      <td>2.000000</td>\n",
       "      <td>1.000000</td>\n",
       "      <td>5.000000</td>\n",
       "      <td>14.000000</td>\n",
       "      <td>0.689655</td>\n",
       "      <td>8.000000</td>\n",
       "      <td>256.000000</td>\n",
       "      <td>3.246863</td>\n",
       "      <td>1066.500000</td>\n",
       "      <td>0.000000</td>\n",
       "      <td>0.000000</td>\n",
       "    </tr>\n",
       "    <tr>\n",
       "      <th>50%</th>\n",
       "      <td>118.500000</td>\n",
       "      <td>118.500000</td>\n",
       "      <td>3.000000</td>\n",
       "      <td>2.000000</td>\n",
       "      <td>1.000000</td>\n",
       "      <td>5.000000</td>\n",
       "      <td>15.000000</td>\n",
       "      <td>0.862069</td>\n",
       "      <td>8.000000</td>\n",
       "      <td>256.000000</td>\n",
       "      <td>4.106221</td>\n",
       "      <td>1333.000000</td>\n",
       "      <td>1.000000</td>\n",
       "      <td>0.000000</td>\n",
       "    </tr>\n",
       "    <tr>\n",
       "      <th>75%</th>\n",
       "      <td>177.750000</td>\n",
       "      <td>177.750000</td>\n",
       "      <td>4.000000</td>\n",
       "      <td>3.000000</td>\n",
       "      <td>1.000000</td>\n",
       "      <td>7.000000</td>\n",
       "      <td>15.600000</td>\n",
       "      <td>0.931034</td>\n",
       "      <td>8.000000</td>\n",
       "      <td>256.000000</td>\n",
       "      <td>4.851000</td>\n",
       "      <td>1777.000000</td>\n",
       "      <td>1.000000</td>\n",
       "      <td>1.000000</td>\n",
       "    </tr>\n",
       "    <tr>\n",
       "      <th>max</th>\n",
       "      <td>237.000000</td>\n",
       "      <td>237.000000</td>\n",
       "      <td>5.000000</td>\n",
       "      <td>3.000000</td>\n",
       "      <td>2.000000</td>\n",
       "      <td>7.000000</td>\n",
       "      <td>17.300000</td>\n",
       "      <td>1.000000</td>\n",
       "      <td>16.000000</td>\n",
       "      <td>256.000000</td>\n",
       "      <td>7.938000</td>\n",
       "      <td>3810.000000</td>\n",
       "      <td>1.000000</td>\n",
       "      <td>1.000000</td>\n",
       "    </tr>\n",
       "  </tbody>\n",
       "</table>\n",
       "</div>"
      ],
      "text/plain": [
       "       Unnamed: 0.1  Unnamed: 0    Category         GPU          OS  \\\n",
       "count    238.000000  238.000000  238.000000  238.000000  238.000000   \n",
       "mean     118.500000  118.500000    3.205882    2.151261    1.058824   \n",
       "std       68.848868   68.848868    0.776533    0.638282    0.235790   \n",
       "min        0.000000    0.000000    1.000000    1.000000    1.000000   \n",
       "25%       59.250000   59.250000    3.000000    2.000000    1.000000   \n",
       "50%      118.500000  118.500000    3.000000    2.000000    1.000000   \n",
       "75%      177.750000  177.750000    4.000000    3.000000    1.000000   \n",
       "max      237.000000  237.000000    5.000000    3.000000    2.000000   \n",
       "\n",
       "         CPU_core  Screen_Size_inch  CPU_frequency      RAM_GB  \\\n",
       "count  238.000000        238.000000     238.000000  238.000000   \n",
       "mean     5.630252         14.688655       0.813822    7.882353   \n",
       "std      1.241787          1.166045       0.141860    2.482603   \n",
       "min      3.000000         12.000000       0.413793    4.000000   \n",
       "25%      5.000000         14.000000       0.689655    8.000000   \n",
       "50%      5.000000         15.000000       0.862069    8.000000   \n",
       "75%      7.000000         15.600000       0.931034    8.000000   \n",
       "max      7.000000         17.300000       1.000000   16.000000   \n",
       "\n",
       "       Storage_GB_SSD  Weight_pounds        Price  Screen-Full_HD  \\\n",
       "count      238.000000     238.000000   238.000000      238.000000   \n",
       "mean       245.781513       4.106221  1462.344538        0.676471   \n",
       "std         34.765316       1.078442   574.607699        0.468809   \n",
       "min        128.000000       1.786050   527.000000        0.000000   \n",
       "25%        256.000000       3.246863  1066.500000        0.000000   \n",
       "50%        256.000000       4.106221  1333.000000        1.000000   \n",
       "75%        256.000000       4.851000  1777.000000        1.000000   \n",
       "max        256.000000       7.938000  3810.000000        1.000000   \n",
       "\n",
       "       Screen-IPS_panel  \n",
       "count        238.000000  \n",
       "mean           0.323529  \n",
       "std            0.468809  \n",
       "min            0.000000  \n",
       "25%            0.000000  \n",
       "50%            0.000000  \n",
       "75%            1.000000  \n",
       "max            1.000000  "
      ]
     },
     "metadata": {},
     "output_type": "display_data"
    },
    {
     "data": {
      "text/html": [
       "<div>\n",
       "<style scoped>\n",
       "    .dataframe tbody tr th:only-of-type {\n",
       "        vertical-align: middle;\n",
       "    }\n",
       "\n",
       "    .dataframe tbody tr th {\n",
       "        vertical-align: top;\n",
       "    }\n",
       "\n",
       "    .dataframe thead th {\n",
       "        text-align: right;\n",
       "    }\n",
       "</style>\n",
       "<table border=\"1\" class=\"dataframe\">\n",
       "  <thead>\n",
       "    <tr style=\"text-align: right;\">\n",
       "      <th></th>\n",
       "      <th>Manufacturer</th>\n",
       "      <th>Price-binned</th>\n",
       "    </tr>\n",
       "  </thead>\n",
       "  <tbody>\n",
       "    <tr>\n",
       "      <th>count</th>\n",
       "      <td>238</td>\n",
       "      <td>238</td>\n",
       "    </tr>\n",
       "    <tr>\n",
       "      <th>unique</th>\n",
       "      <td>11</td>\n",
       "      <td>3</td>\n",
       "    </tr>\n",
       "    <tr>\n",
       "      <th>top</th>\n",
       "      <td>Dell</td>\n",
       "      <td>Low</td>\n",
       "    </tr>\n",
       "    <tr>\n",
       "      <th>freq</th>\n",
       "      <td>71</td>\n",
       "      <td>160</td>\n",
       "    </tr>\n",
       "  </tbody>\n",
       "</table>\n",
       "</div>"
      ],
      "text/plain": [
       "       Manufacturer Price-binned\n",
       "count           238          238\n",
       "unique           11            3\n",
       "top            Dell          Low\n",
       "freq             71          160"
      ]
     },
     "metadata": {},
     "output_type": "display_data"
    }
   ],
   "source": [
    "display(df.describe())\n",
    "display(df.describe(include=['object']))"
   ]
  },
  {
   "cell_type": "markdown",
   "id": "c3629850",
   "metadata": {},
   "source": [
    "# 3. Use groups and pivot tables to find the effect of categorical variables on price\n",
    "\n",
    "### group by multiple variables\n",
    "Group by multiple variables. For example, let's group by both **'drive-wheels'** and **'body-style'**. \n",
    "\n",
    "This groups the dataframe by the unique combination of 'drive-wheels' and 'body-style'. We can store the results in the variable **'grouped_test1'**.\n",
    "\n",
    "### Task 4: Group the parameters <code>\"GPU\", \"CPU_core\" and \"Price\"</code> to make a pivot table and visualize this connection using the pcolor plot."
   ]
  },
  {
   "cell_type": "code",
   "execution_count": 26,
   "id": "80737624",
   "metadata": {},
   "outputs": [
    {
     "data": {
      "text/html": [
       "<div>\n",
       "<style scoped>\n",
       "    .dataframe tbody tr th:only-of-type {\n",
       "        vertical-align: middle;\n",
       "    }\n",
       "\n",
       "    .dataframe tbody tr th {\n",
       "        vertical-align: top;\n",
       "    }\n",
       "\n",
       "    .dataframe thead th {\n",
       "        text-align: right;\n",
       "    }\n",
       "</style>\n",
       "<table border=\"1\" class=\"dataframe\">\n",
       "  <thead>\n",
       "    <tr style=\"text-align: right;\">\n",
       "      <th></th>\n",
       "      <th>GPU</th>\n",
       "      <th>CPU_core</th>\n",
       "      <th>Price</th>\n",
       "    </tr>\n",
       "  </thead>\n",
       "  <tbody>\n",
       "    <tr>\n",
       "      <th>0</th>\n",
       "      <td>1</td>\n",
       "      <td>3</td>\n",
       "      <td>769.250000</td>\n",
       "    </tr>\n",
       "    <tr>\n",
       "      <th>1</th>\n",
       "      <td>1</td>\n",
       "      <td>5</td>\n",
       "      <td>998.500000</td>\n",
       "    </tr>\n",
       "    <tr>\n",
       "      <th>2</th>\n",
       "      <td>1</td>\n",
       "      <td>7</td>\n",
       "      <td>1167.941176</td>\n",
       "    </tr>\n",
       "    <tr>\n",
       "      <th>3</th>\n",
       "      <td>2</td>\n",
       "      <td>3</td>\n",
       "      <td>785.076923</td>\n",
       "    </tr>\n",
       "    <tr>\n",
       "      <th>4</th>\n",
       "      <td>2</td>\n",
       "      <td>5</td>\n",
       "      <td>1462.197674</td>\n",
       "    </tr>\n",
       "    <tr>\n",
       "      <th>5</th>\n",
       "      <td>2</td>\n",
       "      <td>7</td>\n",
       "      <td>1744.621622</td>\n",
       "    </tr>\n",
       "    <tr>\n",
       "      <th>6</th>\n",
       "      <td>3</td>\n",
       "      <td>3</td>\n",
       "      <td>784.000000</td>\n",
       "    </tr>\n",
       "    <tr>\n",
       "      <th>7</th>\n",
       "      <td>3</td>\n",
       "      <td>5</td>\n",
       "      <td>1220.680000</td>\n",
       "    </tr>\n",
       "    <tr>\n",
       "      <th>8</th>\n",
       "      <td>3</td>\n",
       "      <td>7</td>\n",
       "      <td>1945.097561</td>\n",
       "    </tr>\n",
       "  </tbody>\n",
       "</table>\n",
       "</div>"
      ],
      "text/plain": [
       "   GPU  CPU_core        Price\n",
       "0    1         3   769.250000\n",
       "1    1         5   998.500000\n",
       "2    1         7  1167.941176\n",
       "3    2         3   785.076923\n",
       "4    2         5  1462.197674\n",
       "5    2         7  1744.621622\n",
       "6    3         3   784.000000\n",
       "7    3         5  1220.680000\n",
       "8    3         7  1945.097561"
      ]
     },
     "metadata": {},
     "output_type": "display_data"
    }
   ],
   "source": [
    "# Create the group\n",
    "df_gptest = df[['GPU','CPU_core','Price']]\n",
    "grouped_test1 = df_gptest.groupby(['GPU','CPU_core'],as_index=False).mean()\n",
    "display(grouped_test1)"
   ]
  },
  {
   "cell_type": "code",
   "execution_count": 27,
   "id": "3b018c9a",
   "metadata": {},
   "outputs": [
    {
     "data": {
      "text/html": [
       "<div>\n",
       "<style scoped>\n",
       "    .dataframe tbody tr th:only-of-type {\n",
       "        vertical-align: middle;\n",
       "    }\n",
       "\n",
       "    .dataframe tbody tr th {\n",
       "        vertical-align: top;\n",
       "    }\n",
       "\n",
       "    .dataframe thead tr th {\n",
       "        text-align: left;\n",
       "    }\n",
       "\n",
       "    .dataframe thead tr:last-of-type th {\n",
       "        text-align: right;\n",
       "    }\n",
       "</style>\n",
       "<table border=\"1\" class=\"dataframe\">\n",
       "  <thead>\n",
       "    <tr>\n",
       "      <th></th>\n",
       "      <th colspan=\"3\" halign=\"left\">Price</th>\n",
       "    </tr>\n",
       "    <tr>\n",
       "      <th>CPU_core</th>\n",
       "      <th>3</th>\n",
       "      <th>5</th>\n",
       "      <th>7</th>\n",
       "    </tr>\n",
       "    <tr>\n",
       "      <th>GPU</th>\n",
       "      <th></th>\n",
       "      <th></th>\n",
       "      <th></th>\n",
       "    </tr>\n",
       "  </thead>\n",
       "  <tbody>\n",
       "    <tr>\n",
       "      <th>1</th>\n",
       "      <td>769.250000</td>\n",
       "      <td>998.500000</td>\n",
       "      <td>1167.941176</td>\n",
       "    </tr>\n",
       "    <tr>\n",
       "      <th>2</th>\n",
       "      <td>785.076923</td>\n",
       "      <td>1462.197674</td>\n",
       "      <td>1744.621622</td>\n",
       "    </tr>\n",
       "    <tr>\n",
       "      <th>3</th>\n",
       "      <td>784.000000</td>\n",
       "      <td>1220.680000</td>\n",
       "      <td>1945.097561</td>\n",
       "    </tr>\n",
       "  </tbody>\n",
       "</table>\n",
       "</div>"
      ],
      "text/plain": [
       "               Price                          \n",
       "CPU_core           3            5            7\n",
       "GPU                                           \n",
       "1         769.250000   998.500000  1167.941176\n",
       "2         785.076923  1462.197674  1744.621622\n",
       "3         784.000000  1220.680000  1945.097561"
      ]
     },
     "metadata": {},
     "output_type": "display_data"
    }
   ],
   "source": [
    "# Create the Pivot table\n",
    "grouped_pivot = grouped_test1.pivot(index='GPU',columns='CPU_core')\n",
    "display(grouped_pivot)"
   ]
  },
  {
   "cell_type": "markdown",
   "id": "6e5c3642",
   "metadata": {},
   "source": [
    "### Visualize group by data into a pivot table\n",
    "\n",
    "When we have data that's been grouped together using the <code>groupby</code> method, it's often helpful to visualize it in a pivot table format. \n",
    "\n",
    "A **pivot table** is similar to what you might see in Excel: it arranges data so that one variable is shown along the columns and another variable along the rows. It makes it easier to see patterns and relationships in the data.\n",
    "\n",
    "\n",
    "### Code Breakdown:\n",
    "\n",
    "<code>fig, ax = plt.subplots():</code> \n",
    "- This line creates a figure (fig) and a set of subplots (ax) using Matplotlib's <code>subplots()<code> function.\n",
    "\n",
    "<code>im = ax.pcolor(grouped_pivot, cmap='RdBu'):</code>\n",
    "- This line creates a pseudocolor plot **(heatmap)** using the data in <code>grouped_pivot</code> DataFrame with the colormap 'RdBu'.\n",
    "    \n",
    "<code>row_labels = grouped_pivot.columns.levels[1] and col_labels = grouped_pivot.index:</code> \n",
    "- These lines extract row and column labels from the DataFrame <code>grouped_pivot</code>.\n",
    "    \n",
    "<code>col_labels = grouped_pivot.index</code>\n",
    "- Gets the labels for the rows from the index of the grouped_pivot DataFrame.\n",
    "    \n",
    "    \n",
    "<code></code>\n",
    "\n",
    "<code>ax.set_xticks()</code> and <code>ax.set_yticks():</code> \n",
    "- These lines set the positions of the ticks on the x-axis and y-axis, respectively.\n",
    "   \n",
    "<code>ax.set_xticklabels(row_labels, minor=False)</code>  \n",
    "- Sets the labels for the x-axis ticks using the **row_labels**.\n",
    "   \n",
    "<code>ax.set_yticklabels(row_labels, minor=False)</code>  \n",
    "- Sets the labels for the y-axis ticks using the **col_labels**.\n",
    " \n",
    "  \n",
    "<code>fig.colorbar(im):</code> \n",
    "- This line adds a colorbar to the plot, indicating the mapping of colors to values.\n",
    "   "
   ]
  },
  {
   "cell_type": "code",
   "execution_count": 28,
   "id": "08e4d81b",
   "metadata": {},
   "outputs": [
    {
     "data": {
      "text/plain": [
       "<matplotlib.colorbar.Colorbar at 0x1bfc930d5d0>"
      ]
     },
     "execution_count": 28,
     "metadata": {},
     "output_type": "execute_result"
    },
    {
     "data": {
      "image/png": "[encoded data removed]",
      "text/plain": [
       "<Figure size 640x480 with 2 Axes>"
      ]
     },
     "metadata": {},
     "output_type": "display_data"
    }
   ],
   "source": [
    "# Create the Plot\n",
    "fig, ax = plt.subplots()\n",
    "im = ax.pcolor(grouped_pivot, cmap='RdBu')\n",
    "\n",
    "#label names\n",
    "row_labels = grouped_pivot.columns.levels[1]\n",
    "col_labels = grouped_pivot.index\n",
    "\n",
    "#move ticks and labels to the center\n",
    "ax.set_xticks(np.arange(grouped_pivot.shape[1]) + 0.5, minor=False)\n",
    "ax.set_yticks(np.arange(grouped_pivot.shape[0]) + 0.5, minor=False)\n",
    "\n",
    "#insert labels\n",
    "ax.set_xticklabels(row_labels, minor=False)\n",
    "ax.set_yticklabels(col_labels, minor=False)\n",
    "\n",
    "fig.colorbar(im)"
   ]
  },
  {
   "cell_type": "markdown",
   "id": "57dd56e3",
   "metadata": {},
   "source": [
    "# 4. Use Pearson Correlation to measure the interdependence between variables\n",
    "\n",
    "### Task 5: Use the <code>scipy.stats.pearsonr()</code> function to calculate the Pearson correlation coefficient and the associated p-values for each parameter that was tested earlier. This will help you figure out which parameters are likely to have a strong impact on the price of the laptops."
   ]
  },
  {
   "cell_type": "code",
   "execution_count": 31,
   "id": "b82e84a5",
   "metadata": {},
   "outputs": [
    {
     "name": "stdout",
     "output_type": "stream",
     "text": [
      "RAM_GB\n",
      "The Pearson Correlation Coefficient for RAM_GB is 0.5492972971857845 with a P-value of P = 3.681560628842711e-20\n",
      "CPU_frequency\n",
      "The Pearson Correlation Coefficient for CPU_frequency is 0.36666555892588626 with a P-value of P = 5.502463350713296e-09\n",
      "Storage_GB_SSD\n",
      "The Pearson Correlation Coefficient for Storage_GB_SSD is 0.2434207552181029 with a P-value of P = 0.00014898923191724174\n",
      "Screen_Size_inch\n",
      "The Pearson Correlation Coefficient for Screen_Size_inch is -0.11064420817118291 with a P-value of P = 0.08853397846830627\n",
      "Weight_pounds\n",
      "The Pearson Correlation Coefficient for Weight_pounds is -0.05031225837751554 with a P-value of P = 0.4397693853433899\n",
      "CPU_core\n",
      "The Pearson Correlation Coefficient for CPU_core is 0.4593977773355117 with a P-value of P = 7.912950127009034e-14\n",
      "OS\n",
      "The Pearson Correlation Coefficient for OS is -0.22172980114827376 with a P-value of P = 0.0005696642559246759\n",
      "GPU\n",
      "The Pearson Correlation Coefficient for GPU is 0.28829819888814273 with a P-value of P = 6.166949698364282e-06\n",
      "Category\n",
      "The Pearson Correlation Coefficient for Category is 0.28624275581264114 with a P-value of P = 7.225696235806862e-06\n"
     ]
    }
   ],
   "source": [
    "import scipy.stats as stats\n",
    "\n",
    "for param in ['RAM_GB','CPU_frequency','Storage_GB_SSD','Screen_Size_inch','Weight_pounds','CPU_core','OS','GPU','Category']:\n",
    "    pearson_coef, p_value = stats.pearsonr(df[param], df['Price'])\n",
    "    print(param)\n",
    "    print(\"The Pearson Correlation Coefficient for\", param, \"is\", pearson_coef, \"with a P-value of P =\", p_value)\n"
   ]
  },
  {
   "cell_type": "code",
   "execution_count": null,
   "id": "2382d82c",
   "metadata": {},
   "outputs": [],
   "source": []
  }
 ],
 "metadata": {
  "kernelspec": {
   "display_name": "Python 3 (ipykernel)",
   "language": "python",
   "name": "python3"
  },
  "language_info": {
   "codemirror_mode": {
    "name": "ipython",
    "version": 3
   },
   "file_extension": ".py",
   "mimetype": "text/x-python",
   "name": "python",
   "nbconvert_exporter": "python",
   "pygments_lexer": "ipython3",
   "version": "3.11.4"
  }
 },
 "nbformat": 4,
 "nbformat_minor": 5
}
