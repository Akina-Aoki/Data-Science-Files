{
 "cells": [
  {
   "cell_type": "markdown",
   "id": "4622a827",
   "metadata": {},
   "source": [
    "# Pandas for Beginners\n",
    "\n",
    "Pandas is a Python library used for working with data sets. It allows to analyze big data and makae conclusions based on statistical theories. Pandas can clean messy data sets and make them readable and relevant. Some of it's functions are analyzing, cleaning, exploring and manipulating data. Pandas is very important to relevant data in data science. \n",
    "\n",
    "## Importing Pandas\n",
    "\n",
    "### Source for Pandas located in github repository\n",
    "https://github.com/pandas-dev/pandas\n"
   ]
  },
  {
   "cell_type": "code",
   "execution_count": 1,
   "id": "c463e97f",
   "metadata": {},
   "outputs": [
    {
     "data": {
      "text/plain": [
       "'1.5.3'"
      ]
     },
     "execution_count": 1,
     "metadata": {},
     "output_type": "execute_result"
    }
   ],
   "source": [
    "# importing pandas\n",
    "import pandas\n",
    "pandas.__version__"
   ]
  },
  {
   "cell_type": "markdown",
   "id": "88437fb9",
   "metadata": {},
   "source": [
    " Pandas is usually imported under the pd alias.\n",
    " The Pandas package can be referred to as pd instead of pandas."
   ]
  },
  {
   "cell_type": "code",
   "execution_count": 5,
   "id": "072cbe00",
   "metadata": {
    "scrolled": false
   },
   "outputs": [
    {
     "name": "stdout",
     "output_type": "stream",
     "text": [
      "    food  price\n",
      "0  sushi     10\n",
      "1  pasta     14\n",
      "2  chips      6\n"
     ]
    }
   ],
   "source": [
    "# using \"pd\" alias to import pandas\n",
    "\n",
    "import pandas as pd\n",
    "\n",
    "dataset = {\n",
    "  'food': [\"sushi\", \"pasta\", \"chips\"],\n",
    "  'price': [10, 14, 6]\n",
    "}\n",
    "\n",
    "a = pd.DataFrame(dataset)\n",
    "\n",
    "print(a)\n"
   ]
  },
  {
   "cell_type": "markdown",
   "id": "068b19c5",
   "metadata": {},
   "source": []
  },
  {
   "cell_type": "markdown",
   "id": "44a9a2bf",
   "metadata": {},
   "source": [
    "## Loading Data with Pandas\n",
    "\n",
    "### CSV Files\n",
    "Let's say I have a CSV file I want to load using the Pandas built-in function, **read_csv**"
   ]
  },
  {
   "cell_type": "code",
   "execution_count": null,
   "id": "87344461",
   "metadata": {},
   "outputs": [],
   "source": [
    "import pandas\n",
    "csv_path = 'file1.csv'\n",
    "df = pandas.read_csv(csv_path)"
   ]
  },
  {
   "cell_type": "markdown",
   "id": "d2320df1",
   "metadata": {},
   "source": [
    "This statement is better since it can shorten by using the standard abbreviation, **pd.**"
   ]
  },
  {
   "cell_type": "code",
   "execution_count": null,
   "id": "fdcd0d6b",
   "metadata": {},
   "outputs": [],
   "source": [
    "import pandas as pd\n",
    "csv_path = 'file1.csv'        # stores the path of the csv which can be used as an argument\n",
    "df = pd.read_csv(csv_path)    # stored in the variable df\n",
    "df.head()                     # to examine the first rows of the data frame"
   ]
  },
  {
   "cell_type": "markdown",
   "id": "e39bc464",
   "metadata": {},
   "source": [
    "The process for loading an Excel file is similar. We use the path of the Excel file. The function reads Excel. The result is a data frame. "
   ]
  },
  {
   "cell_type": "code",
   "execution_count": null,
   "id": "149b25cf",
   "metadata": {},
   "outputs": [],
   "source": [
    "xlsx_path = 'file1.xlsx'\n",
    "df = pd.read_excel(slsx_path)\n",
    "df.head()"
   ]
  },
  {
   "cell_type": "markdown",
   "id": "9352675f",
   "metadata": {},
   "source": []
  },
  {
   "cell_type": "code",
   "execution_count": 40,
   "id": "1303752a",
   "metadata": {},
   "outputs": [
    {
     "name": "stdout",
     "output_type": "stream",
     "text": [
      "            Album  Realeased\n",
      "0        Thriller       1982\n",
      "1  The Body Guard       1992\n",
      "2   Back in Black       1980\n"
     ]
    }
   ],
   "source": [
    "# sample 1\n",
    "\n",
    "import pandas as pd\n",
    "songs = {\"Album\":[\"Thriller\", \"The Body Guard\", \"Back in Black\"],\n",
    "         \"Realeased\":[1982, 1992, 1980],    \n",
    "}\n",
    "songs_frame = pd.DataFrame(songs)\n",
    "print(songs_frame)"
   ]
  },
  {
   "cell_type": "markdown",
   "id": "779a15c2",
   "metadata": {},
   "source": [
    "## Data Frames\n",
    "\n",
    "A DataFrame has rows and columns, often made from a dictionary where keys become column labels and values turn into rows. It can be converted from dictionary to a DataFrame using the data frame function."
   ]
  },
  {
   "cell_type": "code",
   "execution_count": null,
   "id": "9f410a93",
   "metadata": {},
   "outputs": [],
   "source": [
    "# sample 2\n",
    "\n",
    "import pandas as pd\n",
    "  \n",
    "grocery_table = {\"days\":[\"Monday\",\"Tuesday\", \"Wednesday\", \"Thursday\", \"Friday\", \"Saturday\",\"Sunday\"],\n",
    "                \"items\":[\"pizza kit\",\"tuna and salmon\", \"vegetables\", \"pre-made dinner\", \"wagyu\", \"greek salad\", \"oatmeal\"],\n",
    "                \"store\":[\"ICA\", \"LIDL\", \"Hemköp\", \"Willys\", \"ICA\", \"COOP\", \"Hemköp\"]\n",
    "}\n",
    "\n",
    "grocery_frame = pd.DataFrame(grocery_table)\n",
    "print(grocery_frame)"
   ]
  },
  {
   "cell_type": "markdown",
   "id": "dd2b0a57",
   "metadata": {},
   "source": [
    "### Adding new columns in data frame\n",
    "\n",
    "Then, to get a new DataFrame with just one column, put the DataFrame name and the column header in double brackets. variable = dataframe[[\"column name\"]]\n",
    "\n",
    "Same goes for getting multiple columns - just enclose the DataFrame name and column headers in double brackets to make a new DataFrame with those columns.\n"
   ]
  },
  {
   "cell_type": "code",
   "execution_count": null,
   "id": "21df80f0",
   "metadata": {},
   "outputs": [],
   "source": [
    "\n",
    "import pandas as pd\n",
    "\n",
    "grocery_table = {\"days\":[\"Monday\",\"Tuesday\", \"Wednesday\", \"Thursday\", \"Friday\", \"Saturday\",\"Sunday\"],\n",
    "                \"items\":[\"pizza kit\",\"tuna and salmon\", \"vegetables\", \"pre-made dinner\", \"wagyu\", \"greek salad\", \"oatmeal\"],\n",
    "                \"store\":[\"ICA\", \"LIDL\", \"Hemköp\", \"Willys\", \"ICA\", \"COOP\", \"Hemköp\"],\n",
    "                \"location\":[\"Nacka\", \"Hässleby\", \"TC\", \"Täby\", \"Nacka\", \"TC\", \"Ropsten\"]\n",
    "}\n",
    "grocery_frame = pd.DataFrame(grocery_table)\n",
    "x = grocery_frame[[\"location\"]]    # add a new column in the data frame\n",
    "print(grocery_frame)\n"
   ]
  },
  {
   "cell_type": "markdown",
   "id": "1bbeadb0",
   "metadata": {},
   "source": [
    "### Working with and saving data from data frame\n",
    "\n",
    "The **unique()** function in pandas is used to extract unique elements from a pandas Series or a DataFrame column."
   ]
  },
  {
   "cell_type": "code",
   "execution_count": 42,
   "id": "c6cb1cb4",
   "metadata": {},
   "outputs": [
    {
     "name": "stdout",
     "output_type": "stream",
     "text": [
      "['Nacka' 'Hässleby' 'TC' 'Täby' 'Ropsten']\n"
     ]
    }
   ],
   "source": [
    "import pandas as pd\n",
    "\n",
    "grocery_table = {\"days\":[\"Monday\",\"Tuesday\", \"Wednesday\", \"Thursday\", \"Friday\", \"Saturday\",\"Sunday\"],\n",
    "                \"items\":[\"pizza kit\",\"tuna and salmon\", \"vegetables\", \"pre-made dinner\", \"wagyu\", \"greek salad\", \"oatmeal\"],\n",
    "                \"store\":[\"ICA\", \"LIDL\", \"Hemköp\", \"Willys\", \"ICA\", \"COOP\", \"Hemköp\"],\n",
    "                \"location\":[\"Nacka\", \"Hässleby\", \"TC\", \"Täby\", \"Nacka\", \"TC\", \"Ropsten\"],\n",
    "                \"price\":[130, 1000, 250, 70, 4000, 120, 40]\n",
    "}\n",
    "grocery_frame = pd.DataFrame(grocery_table)    # name of the data frame\n",
    "x = grocery_frame[[\"location\"]]\n",
    "print(grocery_frame[\"location\"].unique())      # takes all unique elememts\n"
   ]
  },
  {
   "cell_type": "markdown",
   "id": "c725c011",
   "metadata": {},
   "source": [
    "#### to_csv() method\n",
    "I created a DataFrame called grocery_frame from the dictionary grocery_table. Then, I printed a boolean Series indicating whether the price of each item in the \"price\" column is greater than or equal to 1000. I filtered grocery_frame based on items with prices greater than or equal to 1000 and assigning the result to a new DataFrame called df1. Finally, I used the **to_csv()** method to save the contents of df1 to a CSV file named \"items_over_1000.csv\"."
   ]
  },
  {
   "cell_type": "code",
   "execution_count": 41,
   "id": "52723d49",
   "metadata": {},
   "outputs": [
    {
     "name": "stdout",
     "output_type": "stream",
     "text": [
      "0    False\n",
      "1     True\n",
      "2    False\n",
      "3    False\n",
      "4     True\n",
      "5    False\n",
      "6    False\n",
      "Name: price, dtype: bool\n"
     ]
    }
   ],
   "source": [
    "import pandas as pd\n",
    "\n",
    "grocery_table = {\"days\":[\"Monday\",\"Tuesday\", \"Wednesday\", \"Thursday\", \"Friday\", \"Saturday\",\"Sunday\"],\n",
    "                \"items\":[\"pizza kit\",\"tuna and salmon\", \"vegetables\", \"pre-made dinner\", \"wagyu\", \"greek salad\", \"oatmeal\"],\n",
    "                \"store\":[\"ICA\", \"LIDL\", \"Hemköp\", \"Willys\", \"ICA\", \"COOP\", \"Hemköp\"],\n",
    "                \"location\":[\"Nacka\", \"Hässleby\", \"TC\", \"Täby\", \"Nacka\", \"TC\", \"Ropsten\"],\n",
    "                \"price\":[130, 1000, 250, 70, 4000, 120, 40]\n",
    "}\n",
    "grocery_frame = pd.DataFrame(grocery_table)    # name of the data frame\n",
    "print(grocery_frame[\"price\"]>= 1000)             # Boolean to check which items cost more than 1000\n",
    "\n",
    "df1 = grocery_frame[grocery_frame[\"price\"]>=1000]   # create df from grocery_frame\n",
    "df1.to_csv(\"items_over_1000\")\n"
   ]
  },
  {
   "cell_type": "markdown",
   "id": "d1984ceb",
   "metadata": {},
   "source": []
  },
  {
   "cell_type": "markdown",
   "id": "81dc9a0a",
   "metadata": {},
   "source": [
    "## Series and Labels\n",
    "**Series** is a column in a table, It is one-dimensional array that holds any data type.\n",
    "\n",
    "**Labels** can be made with the *index* argument\n",
    "\n",
    "### Lists\n",
    "Example: Create a weekly budget table using Pandas Series using lists\n"
   ]
  },
  {
   "cell_type": "code",
   "execution_count": 7,
   "id": "468de921",
   "metadata": {},
   "outputs": [
    {
     "name": "stdout",
     "output_type": "stream",
     "text": [
      "Monday       $33.00\n",
      "Tuesday      $45.00\n",
      "Wednesday    $25.00\n",
      "Thursday     $10.00\n",
      "Friday       $90.00\n",
      "Saturday     $23.00\n",
      "Sunday        $4.00\n",
      "dtype: object\n"
     ]
    }
   ],
   "source": [
    "import pandas as pd\n",
    "\n",
    "budget_list = [33, 45, 25, 10, 90, 23, 4]\n",
    "\n",
    "sample_a = pd.Series(budget_list, index = [\"Monday\", \"Tuesday\", \"Wednesday\", \"Thursday\", \"Friday\", \"Saturday\", \"Sunday\"])\n",
    "\n",
    "# Using string formatting to add the dollar sign\n",
    "sample_a_with_dollar = sample_a.map(\"${:.2f}\".format)\n",
    "\n",
    "print(sample_a_with_dollar)"
   ]
  },
  {
   "cell_type": "markdown",
   "id": "804fba67",
   "metadata": {},
   "source": [
    "### Dictionaries\n",
    "The **keys** of the dictionaries becomes the labels instead.\n",
    "\n",
    "Example: Create a weekly budget table using Pandas Series using dictionaries\n",
    "\n",
    "If I have a dictionary and I want to apply formatting to its values, I can achieve this by iterating over the dictionary and formatting each value individually."
   ]
  },
  {
   "cell_type": "code",
   "execution_count": 9,
   "id": "1dc1d129",
   "metadata": {
    "scrolled": true
   },
   "outputs": [
    {
     "name": "stdout",
     "output_type": "stream",
     "text": [
      "{'Monday': '$33.00', 'Tuesday': '$45.00', 'Wednesday': '$25.00', 'Thursday': '$10.00', 'Friday': '$90.00', 'Saturday': '$23.00', 'Sunday': '$4.00'}\n"
     ]
    }
   ],
   "source": [
    "import pandas as pd\n",
    "budget_dict = {\"Monday\": 33, \"Tuesday\": 45, \"Wednesday\": 25, \"Thursday\": 10, \"Friday\": 90, \"Saturday\": 23, \"Sunday\":4}\n",
    "\n",
    "# Using a dictionary comprehension to format each value with a dollar sign\n",
    "budget_with_dollar = {day: \"${:.2f}\".format(value) for day, value in budget_dict.items()}\n",
    "\n",
    "print(budget_with_dollar)"
   ]
  },
  {
   "cell_type": "markdown",
   "id": "76131a63",
   "metadata": {},
   "source": [
    "Using the **index** argument in dictionaries to print oEnly specific items."
   ]
  },
  {
   "cell_type": "code",
   "execution_count": 11,
   "id": "400ee846",
   "metadata": {},
   "outputs": [
    {
     "name": "stdout",
     "output_type": "stream",
     "text": [
      "Saturday    $23.00\n",
      "Sunday       $4.00\n",
      "dtype: object\n"
     ]
    }
   ],
   "source": [
    "import pandas as pd\n",
    "budget_dict = {\"Monday\": 33, \"Tuesday\": 45, \"Wednesday\": 25, \"Thursday\": 10, \"Friday\": 90, \"Saturday\": 23, \"Sunday\":4}\n",
    "\n",
    "# Using a dictionary comprehension to format each value with a dollar sign\n",
    "budget_with_dollar = {day: \"${:.2f}\".format(value) for day, value in budget_dict.items()}\n",
    "\n",
    "budget_specific_days = pd.Series(budget_with_dollar, index = [\"Saturday\", \"Sunday\"])\n",
    "\n",
    "print(budget_specific_days)"
   ]
  },
  {
   "cell_type": "markdown",
   "id": "7f7965c4",
   "metadata": {},
   "source": []
  },
  {
   "cell_type": "markdown",
   "id": "c5302859",
   "metadata": {},
   "source": [
    "## Data Frames\n",
    "Data Frames are multi-dimensional tables. Data Frames represents a whole table while Series are like columns.\n",
    "\n",
    "**Syntax:** variable = pd.DataFrame(data)"
   ]
  },
  {
   "cell_type": "markdown",
   "id": "49208753",
   "metadata": {},
   "source": [
    "### Data Frame using lists\n",
    "Example: Upgrade my budget table by adding another series for the food bought using lists and dictionaries."
   ]
  },
  {
   "cell_type": "code",
   "execution_count": 25,
   "id": "e0e5c8a4",
   "metadata": {},
   "outputs": [
    {
     "name": "stdout",
     "output_type": "stream",
     "text": [
      "           Budget            Items\n",
      "Monday         33        pizza kit\n",
      "Tuesday        45  tuna and salmon\n",
      "Wednesday      25       vegetables\n",
      "Thursday       10  pre-made dinner\n",
      "Friday         90            wagyu\n",
      "Saturday       23      greek salad\n",
      "Sunday          4          oatmeal\n"
     ]
    }
   ],
   "source": [
    "# Data Frame using lists\n",
    "\n",
    "import pandas as pd\n",
    "\n",
    "# create lists for each category \n",
    "expenses = [33, 45, 25, 10, 90, 23, 4]\n",
    "days = [\"Monday\", \"Tuesday\", \"Wednesday\", \"Thursday\", \"Friday\", \"Saturday\", \"Sunday\"]\n",
    "items = [\"pizza kit\", \"tuna and salmon\", \"vegetables\", \"pre-made dinner\", \"wagyu\", \"greek salad\", \"oatmeal\"]\n",
    "\n",
    "\n",
    "# Create pandas Series (column) for items\n",
    "items_series = pd.Series(items, index = days)\n",
    "\n",
    "# Create pandas Series(column) for expenses\n",
    "expenses_series = pd.Series(expenses, index = days)\n",
    "\n",
    "# Concatenate the two Series to create a DataFrame\n",
    "budget_df = pd.DataFrame({\"Budget\" : expenses_series, \"Items\" : items_series})\n",
    "\n",
    "print(budget_df)"
   ]
  },
  {
   "cell_type": "markdown",
   "id": "22883153",
   "metadata": {},
   "source": [
    "### Data Frame using dictionaries\n",
    "Example: Upgrade my budget table by creating a DataFrame using dictionaries. I just need to provide a dictionary where the keys are the columns and the values are corresponding to the data in each column."
   ]
  },
  {
   "cell_type": "code",
   "execution_count": 36,
   "id": "e1c496f1",
   "metadata": {},
   "outputs": [
    {
     "name": "stdout",
     "output_type": "stream",
     "text": [
      "{'numbers': [1, 2, 3], 'letters': ['a', 'b', 'c']}\n"
     ]
    }
   ],
   "source": [
    "# DataFrames using Dictionaries\n",
    "# start with this simple code as a guide\n",
    "\n",
    "import pandas as pd\n",
    "\n",
    "data = {\n",
    "    \"numbers\" : [1, 2, 3],         #int\n",
    "    \"letters\" : [\"a\", \"b\" ,\"c\"]    # str\n",
    "}\n",
    "\n",
    "# load data into a DataFrame object\n",
    "sample = pd.DataFrame(data)\n",
    "print(data)"
   ]
  },
  {
   "cell_type": "code",
   "execution_count": 37,
   "id": "93f97179",
   "metadata": {},
   "outputs": [
    {
     "name": "stdout",
     "output_type": "stream",
     "text": [
      "           Budget            Items\n",
      "Monday         33        pizza kit\n",
      "Tuesday        45  tuna and salmon\n",
      "Wednesday      25       vegetables\n",
      "Thursday       10  pre-made dinner\n",
      "Friday         90            wagyu\n",
      "Saturday       23      greek salad\n",
      "Sunday          4          oatmeal\n"
     ]
    }
   ],
   "source": [
    "import pandas as pd\n",
    "\n",
    "# create dictionary day:expenses pair\n",
    "expenses_dict = {\n",
    "    \"Monday\":33,\n",
    "    \"Tuesday\":45,\n",
    "    \"Wednesday\":25,\n",
    "    \"Thursday\":10,\n",
    "    \"Friday\":90,\n",
    "    \"Saturday\":23,\n",
    "    \"Sunday\":4\n",
    "}\n",
    "\n",
    "\n",
    "# create dictionary day:items pair\n",
    "items_dict = {\n",
    "    \"Monday\":\"pizza kit\",\n",
    "    \"Tuesday\":\"tuna and salmon\",\n",
    "    \"Wednesday\":\"vegetables\",\n",
    "    \"Thursday\":\"pre-made dinner\",\n",
    "    \"Friday\":\"wagyu\",\n",
    "    \"Saturday\":\"greek salad\",\n",
    "    \"Sunday\":\"oatmeal\"\n",
    "}\n",
    "\n",
    "# create pandas series (columns) from dictionaries\n",
    "expenses_series = pd.Series(expenses_dict)\n",
    "items_series = pd.Series(items_dict)\n",
    "\n",
    "# create DataFrame by concatenation of 2 series\n",
    "budget_df = pd.DataFrame({\"Budget\": expenses_series, \"Items\":items_series})\n",
    "\n",
    "print(budget_df)\n"
   ]
  },
  {
   "cell_type": "code",
   "execution_count": null,
   "id": "f53747ec",
   "metadata": {},
   "outputs": [],
   "source": []
  }
 ],
 "metadata": {
  "kernelspec": {
   "display_name": "Python 3 (ipykernel)",
   "language": "python",
   "name": "python3"
  },
  "language_info": {
   "codemirror_mode": {
    "name": "ipython",
    "version": 3
   },
   "file_extension": ".py",
   "mimetype": "text/x-python",
   "name": "python",
   "nbconvert_exporter": "python",
   "pygments_lexer": "ipython3",
   "version": "3.11.4"
  }
 },
 "nbformat": 4,
 "nbformat_minor": 5
}
