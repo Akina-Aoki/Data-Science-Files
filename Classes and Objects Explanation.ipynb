{
 "cells": [
  {
   "cell_type": "markdown",
   "id": "b4e656cb",
   "metadata": {},
   "source": [
    "# Classes and Objects in Python\n",
    "\n",
    "\n",
    "This text explains the basics of objects and classes in Python, which are essential in object-oriented programming. Classes are like blueprints for creating objects, which represent real-world entities with their own unique properties and behaviors. The example provided demonstrates how to define a class in Python, including class attributes, a constructor method for setting up object attributes, and instance methods for defining object-specific actions.\n",
    "\n",
    "\n",
    "## Structure of classes and object code\n",
    "\n",
    "\n",
    "### Class Declaration\n",
    "\n",
    "- The class keyword is used to declare a class in Python.\n",
    "\n",
    "- ClassName is the name of the class."
   ]
  },
  {
   "cell_type": "code",
   "execution_count": null,
   "id": "f153d776",
   "metadata": {},
   "outputs": [],
   "source": [
    "class ClassName:"
   ]
  },
  {
   "cell_type": "markdown",
   "id": "d60744d8",
   "metadata": {},
   "source": [
    "### Class Attributes\n",
    "\n",
    "- Class attributes are variables that are shared among all instances (objects) of the class.\n",
    "\n",
    "- They are defined within the class but outside of any methods."
   ]
  },
  {
   "cell_type": "code",
   "execution_count": null,
   "id": "696eba1d",
   "metadata": {},
   "outputs": [],
   "source": [
    "class ClassName:\n",
    "    class_attribute = value     # class attribute "
   ]
  },
  {
   "cell_type": "markdown",
   "id": "b6195bd8",
   "metadata": {},
   "source": [
    "### Constructor\n",
    "\n",
    "- The **__init__** method is a special method known as the constructor.\n",
    "\n",
    "- It initializes the instance attributes (instance variables) when an object is created.\n",
    "\n",
    "- The **self** parameter is the first parameter of the constructor, referring to the instance being created.\n",
    "\n",
    "- **attribute1, attribute2**, and so on are parameters passed to the constructor when creating an object.\n",
    "\n",
    "- Inside the constructor,**self.attribute1, self.attribute2**, and so on are used to assign values to instance attributes."
   ]
  },
  {
   "cell_type": "code",
   "execution_count": null,
   "id": "65dd8d6c",
   "metadata": {},
   "outputs": [],
   "source": [
    "class ClassName:\n",
    "    class_attribute = value    # class attribute                \n",
    "    \n",
    "    def__init__(self, attribute1, attribute2):   #constructor\n",
    "        pass"
   ]
  },
  {
   "cell_type": "markdown",
   "id": "c2024588",
   "metadata": {},
   "source": [
    "### Instance Attributes\n",
    "\n",
    "- Instance attributes are variables that store data specific to each instance of the class.\n",
    "\n",
    "- They are initialized within the **init** method using the self keyword followed by the attribute name.\n",
    "\n",
    "- These attributes hold unique data for each object created from the class."
   ]
  },
  {
   "cell_type": "code",
   "execution_count": null,
   "id": "a3dba769",
   "metadata": {},
   "outputs": [],
   "source": [
    "class ClassName:\n",
    "    class_attribute = value    # class attribute                \n",
    "    \n",
    "    def__init__(self, attribute1, attribute2):   #constructor\n",
    "        self.attribute1 = attribute1             #instances\n",
    "        self.attribute2 = attribute2\n",
    "        "
   ]
  },
  {
   "cell_type": "markdown",
   "id": "3f72005c",
   "metadata": {},
   "source": [
    "### Instance Methods\n",
    "\n",
    "- Instance methods are functions defined within the class.\n",
    "\n",
    "- They operate on the instance's data and can perform actions specific to instances.\n",
    "\n",
    "- The **self** parameter is required in instance methods, allowing them to access instance attributes and call other methods within the class."
   ]
  },
  {
   "cell_type": "code",
   "execution_count": null,
   "id": "a67622a8",
   "metadata": {},
   "outputs": [],
   "source": [
    "class ClassName:\n",
    "    class_attribute = value    # class attribute                \n",
    "    \n",
    "    def__init__(self, attribute1, attribute2):   #constructor\n",
    "        self.attribute1 = attribute1             #instances\n",
    "        self.attribute2 = attribute2\n",
    "        \n",
    "    def method1(self, parameter1, parameter2):   #instance methods(functions)\n",
    "        # method code\n",
    "        pass\n",
    "    \n",
    "    def method2(self, parameter1, parameter2):\n",
    "        # method code\n",
    "        pass"
   ]
  },
  {
   "cell_type": "markdown",
   "id": "19d0b702",
   "metadata": {},
   "source": [
    "### Creating Objects (Instances)\n",
    "\n",
    "- To create objects (instances) of the class, **call the class** like a function and provide arguments required by the constructor.\n",
    "\n",
    "- Each object is a distinct instance of the class, with its own set of instance attributes and the ability to call methods defined in the class."
   ]
  },
  {
   "cell_type": "code",
   "execution_count": null,
   "id": "69cf81b1",
   "metadata": {},
   "outputs": [],
   "source": [
    "# Create objects\n",
    "object1 = ClassName(argument1, argument2):\n",
    "object2 = ClassName(argument1, argument2):"
   ]
  },
  {
   "cell_type": "markdown",
   "id": "d73b63a4",
   "metadata": {},
   "source": [
    "### Calling methods(functions) on objects\n",
    "\n",
    "- The methods **method1** and **method2** are defined in the ClassName class, and you're calling them on **object1** and **object2.**\n",
    "\n",
    "- You pass values **param1_value** and **param2_value** as arguments to these methods. These arguments are used within the method's logic.\n"
   ]
  },
  {
   "cell_type": "markdown",
   "id": "0d64b256",
   "metadata": {},
   "source": [
    "#### 1. Using . notation\n",
    "\n",
    "- This is the most straightforward way to call an object's method. \n",
    "**(object.method())**"
   ]
  },
  {
   "cell_type": "code",
   "execution_count": null,
   "id": "473889b7",
   "metadata": {},
   "outputs": [],
   "source": [
    "# Calling methods on objects\n",
    "# 1: Using dot notation\n",
    "result1 = object1.method1(param1_value, param2_value)\n",
    "result2 = object2.method2(param1_value, param2_value)"
   ]
  },
  {
   "cell_type": "markdown",
   "id": "bfc76c45",
   "metadata": {},
   "source": [
    "#### 2. Assigning object methods to variables\n",
    "\n",
    "- **method_reference = object1.method1** assigns the method method1 of object1 to the variable method_reference.\n",
    "\n",
    "- call the method using the variable like this: \n",
    "**result3 = method_reference(param1_value, param2_value, …)**"
   ]
  },
  {
   "cell_type": "code",
   "execution_count": null,
   "id": "14969347",
   "metadata": {},
   "outputs": [],
   "source": [
    "# 2: Assigning object methods to variables\n",
    "method_reference = object1.method1  # Assign the method to a variable\n",
    "result3 = method_reference(param1_value, param2_value, ...)"
   ]
  },
  {
   "cell_type": "markdown",
   "id": "5642e00c",
   "metadata": {},
   "source": [
    "### Accessing Object Attributes\n",
    "\n",
    "- **attribute_value = object1.attribute1** retrieves the value of the attribute attribute1 from object1 and assigns it to the variable attribute_value."
   ]
  },
  {
   "cell_type": "code",
   "execution_count": null,
   "id": "94d4b7be",
   "metadata": {},
   "outputs": [],
   "source": [
    "# Accessing object attributes\n",
    "attribute_value = object1.attribute1"
   ]
  },
  {
   "cell_type": "markdown",
   "id": "18d1938a",
   "metadata": {},
   "source": [
    "### Modifying Object Attributes\n",
    "\n",
    "- **object1.attribute2 = new_value** sets the attribute attribute2 of object1 to the new value new_value."
   ]
  },
  {
   "cell_type": "code",
   "execution_count": null,
   "id": "f007bed0",
   "metadata": {},
   "outputs": [],
   "source": [
    "# Modifying object attributes\n",
    "object1.attribute2 = new_value"
   ]
  },
  {
   "cell_type": "markdown",
   "id": "894e8c83",
   "metadata": {},
   "source": [
    "### Accessing class attributes \n",
    "\n",
    "- Finally,we access a class attribute, which is shared by all instances of the class.\n",
    "\n",
    "- **class_attr_value = ClassName.class_attribute** accesses the class attribute\n",
    "\n",
    "- **class_attribute** from the ClassName **class** and assigns its value to the variable **class_attr_value**."
   ]
  },
  {
   "cell_type": "code",
   "execution_count": null,
   "id": "8823ad9c",
   "metadata": {},
   "outputs": [],
   "source": [
    "# Accessing class attributes (shared by all instances)\n",
    "class_attr_value = ClassName.class_attribute"
   ]
  }
 ],
 "metadata": {
  "kernelspec": {
   "display_name": "Python 3 (ipykernel)",
   "language": "python",
   "name": "python3"
  },
  "language_info": {
   "codemirror_mode": {
    "name": "ipython",
    "version": 3
   },
   "file_extension": ".py",
   "mimetype": "text/x-python",
   "name": "python",
   "nbconvert_exporter": "python",
   "pygments_lexer": "ipython3",
   "version": "3.11.4"
  }
 },
 "nbformat": 4,
 "nbformat_minor": 5
}
